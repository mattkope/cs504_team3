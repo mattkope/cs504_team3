{
 "cells": [
  {
   "cell_type": "code",
   "execution_count": 2,
   "id": "cb1b2635-b006-49f0-a3d9-e42164c9a950",
   "metadata": {
    "tags": []
   },
   "outputs": [],
   "source": [
    "import os\n",
    "import json"
   ]
  },
  {
   "cell_type": "code",
   "execution_count": 4,
   "id": "deb63fff-2e57-48b4-acbc-1034b13339d5",
   "metadata": {
    "tags": []
   },
   "outputs": [],
   "source": [
    "with open(r\"C:\\Users\\corii\\OneDrive\\Desktop\\kaggle.json\", 'r') as f:\n",
    "    kaggle_credentials = json.load(f)"
   ]
  },
  {
   "cell_type": "code",
   "execution_count": 6,
   "id": "59cc6726-54dd-465c-ba28-5356b3519aaa",
   "metadata": {
    "tags": []
   },
   "outputs": [
    {
     "name": "stdout",
     "output_type": "stream",
     "text": [
      "Kaggle credentials are set\n"
     ]
    }
   ],
   "source": [
    "#Set the environment variables for authentication \n",
    "os.environ['KAGGLE_USERNAME'] = kaggle_credentials['username']\n",
    "os.environ['KAGGLE_KEY'] = kaggle_credentials['key']\n",
    "\n",
    "#Check if Credentials are set\n",
    "print(\"Kaggle credentials are set\")"
   ]
  },
  {
   "cell_type": "code",
   "execution_count": 18,
   "id": "2d21244a-4aa7-4a91-9453-f268b1e313c5",
   "metadata": {
    "tags": []
   },
   "outputs": [
    {
     "name": "stdout",
     "output_type": "stream",
     "text": [
      "Data loaded in 2.587357759475708 seconds\n"
     ]
    }
   ],
   "source": [
    "import pandas as pd\n",
    "from sklearn.cluster import KMeans\n",
    "from sklearn.preprocessing import StandardScaler\n",
    "import time\n",
    "\n",
    "# Load the CSV files using pandas\n",
    " \n",
    "dec_path = \"2019-Dec-Cleaned.csv\"  \n",
    "\n",
    "# Start timer\n",
    "start_time = time.time()\n",
    "\n",
    "#read in csv file\n",
    "dec_df = pd.read_csv(dec_path)\n",
    "\n",
    "# Print time taken to load data\n",
    "print(f\"Data loaded in {time.time() - start_time} seconds\")"
   ]
  },
  {
   "cell_type": "code",
   "execution_count": 20,
   "id": "72dd5e1a-7663-40e7-a78e-f76052ddd77b",
   "metadata": {
    "tags": []
   },
   "outputs": [
    {
     "name": "stdout",
     "output_type": "stream",
     "text": [
      "Data loaded in 76.59385013580322 seconds\n"
     ]
    }
   ],
   "source": [
    "# Load the CSV files using pandas\n",
    "nov_path = \"2019-Nov-Cleaned.csv\"  \n",
    "\n",
    "# Start timer\n",
    "start_time = time.time()\n",
    "\n",
    "nov_df = pd.read_csv(nov_path)\n",
    "\n",
    "# Print time taken to load data\n",
    "print(f\"Data loaded in {time.time() - start_time} seconds\")"
   ]
  },
  {
   "cell_type": "code",
   "execution_count": 22,
   "id": "da5ff011-19d1-4468-9114-c4eed69c4028",
   "metadata": {
    "tags": []
   },
   "outputs": [
    {
     "name": "stdout",
     "output_type": "stream",
     "text": [
      "                event_time event_type  product_id          category_id  \\\n",
      "0  2019-11-01 00:00:00 UTC       view     1003461  2053013555631882655   \n",
      "1  2019-11-01 00:00:00 UTC       view     5000088  2053013566100866035   \n",
      "2  2019-11-01 00:00:01 UTC       view     3601530  2053013563810775923   \n",
      "3  2019-11-01 00:00:01 UTC       view     1004775  2053013555631882655   \n",
      "4  2019-11-01 00:00:01 UTC       view     1306894  2053013558920217191   \n",
      "\n",
      "               category_code   brand   price    user_id  \\\n",
      "0     electronics.smartphone  xiaomi  489.07  520088904   \n",
      "1  appliances.sewing_machine  janome  293.65  530496790   \n",
      "2  appliances.kitchen.washer      lg  712.87  518085591   \n",
      "3     electronics.smartphone  xiaomi  183.27  558856683   \n",
      "4         computers.notebook      hp  360.09  520772685   \n",
      "\n",
      "                           user_session  \n",
      "0  4d3b30da-a5e4-49df-b1a8-ba5943f1dd33  \n",
      "1  8e5f4f83-366c-4f70-860e-ca7417414283  \n",
      "2  3bfb58cd-7892-48cc-8020-2f17e6de6e7f  \n",
      "3  313628f1-68b8-460d-84f6-cec7a8796ef2  \n",
      "4  816a59f3-f5ae-4ccd-9b23-82aa8c23d33c  \n",
      "                event_time event_type  product_id          category_id  \\\n",
      "0  2019-12-01 00:00:00 UTC       view     1005105  2232732093077520756   \n",
      "1  2019-12-01 00:00:01 UTC       view     2402273  2232732100769874463   \n",
      "2  2019-12-01 00:00:02 UTC       view    20100164  2232732110089618156   \n",
      "3  2019-12-01 00:00:02 UTC       view   100008256  2053013561185141473   \n",
      "4  2019-12-01 00:00:03 UTC       view     1005239  2232732093077520756   \n",
      "\n",
      "                  category_code   brand    price    user_id  \\\n",
      "0      construction.tools.light   apple  1302.48  556695836   \n",
      "1  appliances.personal.massager   bosch   313.52  539453785   \n",
      "2              apparel.trousers    nika   101.68  517987650   \n",
      "3          accessories.umbrella    ikea   163.56  542860793   \n",
      "4      construction.tools.light  xiaomi   256.38  525740700   \n",
      "\n",
      "                           user_session  \n",
      "0  ca5eefc5-11f9-450c-91ed-380285a0bc80  \n",
      "1  5ee185a7-0689-4a33-923d-ba0130929a76  \n",
      "2  906c6ca8-ff5c-419a-bde9-967ba8e2233e  \n",
      "3  a1bcb550-1065-4769-a80a-0ccb4bcee78d  \n",
      "4  370e8c88-3d07-41df-9aaa-2adf5a0bf312  \n"
     ]
    }
   ],
   "source": [
    "print(nov_df.head())\n",
    "print(dec_df.head())"
   ]
  },
  {
   "cell_type": "code",
   "execution_count": 24,
   "id": "8c1af19e-2c47-40ed-a7bd-9517dcb13203",
   "metadata": {
    "tags": []
   },
   "outputs": [
    {
     "name": "stdout",
     "output_type": "stream",
     "text": [
      "November dataset columns: ['event_time', 'event_type', 'product_id', 'category_id', 'category_code', 'brand', 'price', 'user_id', 'user_session']\n",
      "December dataset columns: ['event_time', 'event_type', 'product_id', 'category_id', 'category_code', 'brand', 'price', 'user_id', 'user_session']\n"
     ]
    }
   ],
   "source": [
    "# Get column names \n",
    "nov_columns = nov_df.columns.tolist()\n",
    "print(f\"November dataset columns: {nov_columns}\")\n",
    "dec_columns = dec_df.columns.tolist()\n",
    "print(f\"December dataset columns: {dec_columns}\")"
   ]
  },
  {
   "cell_type": "code",
   "execution_count": 28,
   "id": "549a5fdd-56c7-4bca-84e5-e6dc0b0f27c0",
   "metadata": {
    "tags": []
   },
   "outputs": [],
   "source": [
    "#Choose features\n",
    "features = ['event_type', 'price']"
   ]
  },
  {
   "cell_type": "code",
   "execution_count": 30,
   "id": "d00cab7f-cbf5-4bd4-a710-8460afdf498e",
   "metadata": {
    "tags": []
   },
   "outputs": [],
   "source": [
    "# Merge both dataframes for clustering\n",
    "combined_df = pd.concat([nov_df[features], dec_df[features]])"
   ]
  },
  {
   "cell_type": "code",
   "execution_count": 48,
   "id": "96d85fb9-4d8c-4e17-b5cd-90b4354ab0dc",
   "metadata": {
    "tags": []
   },
   "outputs": [
    {
     "name": "stdout",
     "output_type": "stream",
     "text": [
      "   event_type  event_type_encoded\n",
      "0           0                   0\n",
      "1           0                   0\n",
      "2           0                   0\n",
      "3           0                   0\n",
      "4           0                   0\n"
     ]
    }
   ],
   "source": [
    "#Create mapping for categorical data in event type \n",
    "event_type_mapping = {'view': 0, 'cart': 1, 'purchase': 2}\n",
    "combined_df['event_type'] = combined_df['event_type'].map(event_type_mapping)\n",
    "print(combined_df[['event_type', 'event_type_encoded']].head(5))"
   ]
  },
  {
   "cell_type": "code",
   "execution_count": 50,
   "id": "a78cbcd5-d129-4322-9dbe-39b83da82000",
   "metadata": {
    "tags": []
   },
   "outputs": [
    {
     "data": {
      "text/html": [
       "<div>\n",
       "<style scoped>\n",
       "    .dataframe tbody tr th:only-of-type {\n",
       "        vertical-align: middle;\n",
       "    }\n",
       "\n",
       "    .dataframe tbody tr th {\n",
       "        vertical-align: top;\n",
       "    }\n",
       "\n",
       "    .dataframe thead th {\n",
       "        text-align: right;\n",
       "    }\n",
       "</style>\n",
       "<table border=\"1\" class=\"dataframe\">\n",
       "  <thead>\n",
       "    <tr style=\"text-align: right;\">\n",
       "      <th></th>\n",
       "      <th>event_type</th>\n",
       "      <th>price</th>\n",
       "      <th>event_type_encoded</th>\n",
       "    </tr>\n",
       "  </thead>\n",
       "  <tbody>\n",
       "    <tr>\n",
       "      <th>0</th>\n",
       "      <td>0</td>\n",
       "      <td>489.07</td>\n",
       "      <td>0</td>\n",
       "    </tr>\n",
       "    <tr>\n",
       "      <th>1</th>\n",
       "      <td>0</td>\n",
       "      <td>293.65</td>\n",
       "      <td>0</td>\n",
       "    </tr>\n",
       "    <tr>\n",
       "      <th>2</th>\n",
       "      <td>0</td>\n",
       "      <td>712.87</td>\n",
       "      <td>0</td>\n",
       "    </tr>\n",
       "    <tr>\n",
       "      <th>3</th>\n",
       "      <td>0</td>\n",
       "      <td>183.27</td>\n",
       "      <td>0</td>\n",
       "    </tr>\n",
       "    <tr>\n",
       "      <th>4</th>\n",
       "      <td>0</td>\n",
       "      <td>360.09</td>\n",
       "      <td>0</td>\n",
       "    </tr>\n",
       "    <tr>\n",
       "      <th>...</th>\n",
       "      <td>...</td>\n",
       "      <td>...</td>\n",
       "      <td>...</td>\n",
       "    </tr>\n",
       "    <tr>\n",
       "      <th>2778100</th>\n",
       "      <td>0</td>\n",
       "      <td>591.75</td>\n",
       "      <td>0</td>\n",
       "    </tr>\n",
       "    <tr>\n",
       "      <th>2778101</th>\n",
       "      <td>0</td>\n",
       "      <td>275.54</td>\n",
       "      <td>0</td>\n",
       "    </tr>\n",
       "    <tr>\n",
       "      <th>2778102</th>\n",
       "      <td>0</td>\n",
       "      <td>5.92</td>\n",
       "      <td>0</td>\n",
       "    </tr>\n",
       "    <tr>\n",
       "      <th>2778103</th>\n",
       "      <td>0</td>\n",
       "      <td>1161.68</td>\n",
       "      <td>0</td>\n",
       "    </tr>\n",
       "    <tr>\n",
       "      <th>2778104</th>\n",
       "      <td>0</td>\n",
       "      <td>46.31</td>\n",
       "      <td>0</td>\n",
       "    </tr>\n",
       "  </tbody>\n",
       "</table>\n",
       "<p>44867669 rows × 3 columns</p>\n",
       "</div>"
      ],
      "text/plain": [
       "         event_type    price  event_type_encoded\n",
       "0                 0   489.07                   0\n",
       "1                 0   293.65                   0\n",
       "2                 0   712.87                   0\n",
       "3                 0   183.27                   0\n",
       "4                 0   360.09                   0\n",
       "...             ...      ...                 ...\n",
       "2778100           0   591.75                   0\n",
       "2778101           0   275.54                   0\n",
       "2778102           0     5.92                   0\n",
       "2778103           0  1161.68                   0\n",
       "2778104           0    46.31                   0\n",
       "\n",
       "[44867669 rows x 3 columns]"
      ]
     },
     "execution_count": 50,
     "metadata": {},
     "output_type": "execute_result"
    }
   ],
   "source": [
    "combined_df"
   ]
  },
  {
   "cell_type": "code",
   "execution_count": 52,
   "id": "4cc52954-c6e0-49cc-9894-8de5db5b15d3",
   "metadata": {
    "tags": []
   },
   "outputs": [],
   "source": [
    "# Normalize the data\n",
    "scaler = StandardScaler()\n",
    "scaled_data = scaler.fit_transform(combined_df)"
   ]
  },
  {
   "cell_type": "code",
   "execution_count": 56,
   "id": "e4983d3a-00b9-4270-893f-da936e1a0f86",
   "metadata": {
    "tags": []
   },
   "outputs": [
    {
     "name": "stderr",
     "output_type": "stream",
     "text": [
      "C:\\Users\\corii\\anaconda3\\Lib\\site-packages\\sklearn\\cluster\\_kmeans.py:1412: FutureWarning: The default value of `n_init` will change from 10 to 'auto' in 1.4. Set the value of `n_init` explicitly to suppress the warning\n",
      "  super()._check_params_vs_input(X, default_n_init=10)\n"
     ]
    },
    {
     "data": {
      "text/html": [
       "<style>#sk-container-id-1 {color: black;}#sk-container-id-1 pre{padding: 0;}#sk-container-id-1 div.sk-toggleable {background-color: white;}#sk-container-id-1 label.sk-toggleable__label {cursor: pointer;display: block;width: 100%;margin-bottom: 0;padding: 0.3em;box-sizing: border-box;text-align: center;}#sk-container-id-1 label.sk-toggleable__label-arrow:before {content: \"▸\";float: left;margin-right: 0.25em;color: #696969;}#sk-container-id-1 label.sk-toggleable__label-arrow:hover:before {color: black;}#sk-container-id-1 div.sk-estimator:hover label.sk-toggleable__label-arrow:before {color: black;}#sk-container-id-1 div.sk-toggleable__content {max-height: 0;max-width: 0;overflow: hidden;text-align: left;background-color: #f0f8ff;}#sk-container-id-1 div.sk-toggleable__content pre {margin: 0.2em;color: black;border-radius: 0.25em;background-color: #f0f8ff;}#sk-container-id-1 input.sk-toggleable__control:checked~div.sk-toggleable__content {max-height: 200px;max-width: 100%;overflow: auto;}#sk-container-id-1 input.sk-toggleable__control:checked~label.sk-toggleable__label-arrow:before {content: \"▾\";}#sk-container-id-1 div.sk-estimator input.sk-toggleable__control:checked~label.sk-toggleable__label {background-color: #d4ebff;}#sk-container-id-1 div.sk-label input.sk-toggleable__control:checked~label.sk-toggleable__label {background-color: #d4ebff;}#sk-container-id-1 input.sk-hidden--visually {border: 0;clip: rect(1px 1px 1px 1px);clip: rect(1px, 1px, 1px, 1px);height: 1px;margin: -1px;overflow: hidden;padding: 0;position: absolute;width: 1px;}#sk-container-id-1 div.sk-estimator {font-family: monospace;background-color: #f0f8ff;border: 1px dotted black;border-radius: 0.25em;box-sizing: border-box;margin-bottom: 0.5em;}#sk-container-id-1 div.sk-estimator:hover {background-color: #d4ebff;}#sk-container-id-1 div.sk-parallel-item::after {content: \"\";width: 100%;border-bottom: 1px solid gray;flex-grow: 1;}#sk-container-id-1 div.sk-label:hover label.sk-toggleable__label {background-color: #d4ebff;}#sk-container-id-1 div.sk-serial::before {content: \"\";position: absolute;border-left: 1px solid gray;box-sizing: border-box;top: 0;bottom: 0;left: 50%;z-index: 0;}#sk-container-id-1 div.sk-serial {display: flex;flex-direction: column;align-items: center;background-color: white;padding-right: 0.2em;padding-left: 0.2em;position: relative;}#sk-container-id-1 div.sk-item {position: relative;z-index: 1;}#sk-container-id-1 div.sk-parallel {display: flex;align-items: stretch;justify-content: center;background-color: white;position: relative;}#sk-container-id-1 div.sk-item::before, #sk-container-id-1 div.sk-parallel-item::before {content: \"\";position: absolute;border-left: 1px solid gray;box-sizing: border-box;top: 0;bottom: 0;left: 50%;z-index: -1;}#sk-container-id-1 div.sk-parallel-item {display: flex;flex-direction: column;z-index: 1;position: relative;background-color: white;}#sk-container-id-1 div.sk-parallel-item:first-child::after {align-self: flex-end;width: 50%;}#sk-container-id-1 div.sk-parallel-item:last-child::after {align-self: flex-start;width: 50%;}#sk-container-id-1 div.sk-parallel-item:only-child::after {width: 0;}#sk-container-id-1 div.sk-dashed-wrapped {border: 1px dashed gray;margin: 0 0.4em 0.5em 0.4em;box-sizing: border-box;padding-bottom: 0.4em;background-color: white;}#sk-container-id-1 div.sk-label label {font-family: monospace;font-weight: bold;display: inline-block;line-height: 1.2em;}#sk-container-id-1 div.sk-label-container {text-align: center;}#sk-container-id-1 div.sk-container {/* jupyter's `normalize.less` sets `[hidden] { display: none; }` but bootstrap.min.css set `[hidden] { display: none !important; }` so we also need the `!important` here to be able to override the default hidden behavior on the sphinx rendered scikit-learn.org. See: https://github.com/scikit-learn/scikit-learn/issues/21755 */display: inline-block !important;position: relative;}#sk-container-id-1 div.sk-text-repr-fallback {display: none;}</style><div id=\"sk-container-id-1\" class=\"sk-top-container\"><div class=\"sk-text-repr-fallback\"><pre>KMeans(n_clusters=3, random_state=42)</pre><b>In a Jupyter environment, please rerun this cell to show the HTML representation or trust the notebook. <br />On GitHub, the HTML representation is unable to render, please try loading this page with nbviewer.org.</b></div><div class=\"sk-container\" hidden><div class=\"sk-item\"><div class=\"sk-estimator sk-toggleable\"><input class=\"sk-toggleable__control sk-hidden--visually\" id=\"sk-estimator-id-1\" type=\"checkbox\" checked><label for=\"sk-estimator-id-1\" class=\"sk-toggleable__label sk-toggleable__label-arrow\">KMeans</label><div class=\"sk-toggleable__content\"><pre>KMeans(n_clusters=3, random_state=42)</pre></div></div></div></div></div>"
      ],
      "text/plain": [
       "KMeans(n_clusters=3, random_state=42)"
      ]
     },
     "execution_count": 56,
     "metadata": {},
     "output_type": "execute_result"
    }
   ],
   "source": [
    "#Run K-Means Cluster\n",
    "kmeans = KMeans(n_clusters=3, random_state=42)  # Replace with desired number of clusters\n",
    "kmeans.fit(scaled_data)"
   ]
  },
  {
   "cell_type": "code",
   "execution_count": 76,
   "id": "c8842dfc-0a99-4dbe-a7b1-fe5d7e33615b",
   "metadata": {
    "tags": []
   },
   "outputs": [],
   "source": [
    "#Assign Clusters to dataframe \n",
    "combined_df['cluster'] = kmeans.predict(scaled_data)"
   ]
  },
  {
   "cell_type": "code",
   "execution_count": 78,
   "id": "b57c5318-acb6-43a1-a0ab-2859d5056a6e",
   "metadata": {
    "tags": []
   },
   "outputs": [
    {
     "name": "stdout",
     "output_type": "stream",
     "text": [
      "    price  event_type  cluster\n",
      "0  489.07           0        2\n",
      "1  293.65           0        2\n",
      "2  712.87           0        0\n",
      "3  183.27           0        2\n",
      "4  360.09           0        2\n"
     ]
    }
   ],
   "source": [
    "#View predictions \n",
    "print(combined_df[['price', 'event_type', 'cluster']].head())"
   ]
  },
  {
   "cell_type": "code",
   "execution_count": 82,
   "id": "afd453ff-7da6-42b0-bb36-392201ad5878",
   "metadata": {
    "tags": []
   },
   "outputs": [
    {
     "name": "stdout",
     "output_type": "stream",
     "text": [
      "\n",
      "Cluster Centroids:\n",
      "   Feature 1  Feature 2  Feature 3\n",
      "0  -0.250239   1.799328  -0.250239\n",
      "1   3.546227   0.002631   3.546227\n",
      "2  -0.250239  -0.387727  -0.250239\n",
      "\n",
      "Cluster Sizes:\n",
      "cluster\n",
      "2    34483992\n",
      "0     7426282\n",
      "1     2957395\n",
      "Name: count, dtype: int64\n",
      "\n",
      "Statistical Summary for Each Cluster:\n",
      "         event_type                                                    price  \\\n",
      "              count      mean       std  min  25%  50%  75%  max       count   \n",
      "cluster                                                                        \n",
      "0         7426282.0  0.000000  0.000000  0.0  0.0  0.0  0.0  0.0   7426282.0   \n",
      "1         2957395.0  1.239264  0.426634  1.0  1.0  1.0  1.0  2.0   2957395.0   \n",
      "2        34483992.0  0.000000  0.000000  0.0  0.0  0.0  0.0  0.0  34483992.0   \n",
      "\n",
      "                                                                            \n",
      "                mean         std     min     25%     50%      75%      max  \n",
      "cluster                                                                     \n",
      "0        1045.075418  387.526792  627.04  771.94  926.64  1207.21  2574.07  \n",
      "1         357.934237  360.645028    0.77  127.20  218.77   460.50  2574.07  \n",
      "2         208.646175  151.130970    0.77   89.84  169.12   295.76   626.79  \n",
      "Within Set Sum of Squared Errors (WSSSE) = 25743725.23903719\n"
     ]
    }
   ],
   "source": [
    "#Summary Statistics \n",
    "#Cluster Centroids\n",
    "centroids = kmeans.cluster_centers_  # Centroids of the clusters\n",
    "print(\"\\nCluster Centroids:\")\n",
    "#updating based on number of features in centroids \n",
    "num_features = centroids.shape[1]\n",
    "column_names = [f'Feature {i+1}' for i in range(num_features)]\n",
    "centroids_df = pd.DataFrame(centroids, columns=column_names)\n",
    "print(centroids_df)\n",
    "\n",
    "# Cluster sizes\n",
    "cluster_sizes = combined_df['cluster'].value_counts()\n",
    "print(\"\\nCluster Sizes:\")\n",
    "print(cluster_sizes)\n",
    "\n",
    "# Statistical summary for each cluster\n",
    "print(\"\\nStatistical Summary for Each Cluster:\")\n",
    "cluster_stats = combined_df.groupby('cluster')[['event_type', 'price']].describe()\n",
    "print(cluster_stats)\n",
    "\n",
    "#Evaluate Inertia\n",
    "print(f\"Within Set Sum of Squared Errors (WSSSE) = {kmeans.inertia_}\")"
   ]
  },
  {
   "cell_type": "code",
   "execution_count": null,
   "id": "1caaee4e-0412-4853-90cf-ba2b47e4d2eb",
   "metadata": {},
   "outputs": [],
   "source": []
  }
 ],
 "metadata": {
  "kernelspec": {
   "display_name": "Python 3 (ipykernel)",
   "language": "python",
   "name": "python3"
  },
  "language_info": {
   "codemirror_mode": {
    "name": "ipython",
    "version": 3
   },
   "file_extension": ".py",
   "mimetype": "text/x-python",
   "name": "python",
   "nbconvert_exporter": "python",
   "pygments_lexer": "ipython3",
   "version": "3.11.5"
  }
 },
 "nbformat": 4,
 "nbformat_minor": 5
}
