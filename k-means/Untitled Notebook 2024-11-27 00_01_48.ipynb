{
 "cells": [
  {
   "cell_type": "code",
   "execution_count": 0,
   "metadata": {
    "application/vnd.databricks.v1+cell": {
     "cellMetadata": {
      "byteLimit": 2048000,
      "rowLimit": 10000
     },
     "inputWidgets": {},
     "nuid": "5f022d31-6d48-41c6-b9e7-669a123ff2eb",
     "showTitle": false,
     "tableResultSettingsMap": {},
     "title": ""
    }
   },
   "outputs": [
    {
     "output_type": "execute_result",
     "data": {
      "text/html": [
       "\n",
       "            <div>\n",
       "                <p><b>SparkSession - hive</b></p>\n",
       "                \n",
       "        <div>\n",
       "            <p><b>SparkContext</b></p>\n",
       "\n",
       "            <p><a href=\"/?o=2011746110330571#setting/sparkui/1127-050251-z7hlnnv/driver-7441204320054907204\">Spark UI</a></p>\n",
       "\n",
       "            <dl>\n",
       "              <dt>Version</dt>\n",
       "                <dd><code>v3.5.2</code></dd>\n",
       "              <dt>Master</dt>\n",
       "                <dd><code>local[*, 4]</code></dd>\n",
       "              <dt>AppName</dt>\n",
       "                <dd><code>Databricks Shell</code></dd>\n",
       "            </dl>\n",
       "        </div>\n",
       "        \n",
       "            </div>\n",
       "        "
      ],
      "text/plain": [
       "<pyspark.sql.session.SparkSession at 0x7ff849fca1e0>"
      ]
     },
     "execution_count": 1,
     "metadata": {},
     "output_type": "execute_result"
    }
   ],
   "source": [
    "spark"
   ]
  },
  {
   "cell_type": "code",
   "execution_count": 0,
   "metadata": {
    "application/vnd.databricks.v1+cell": {
     "cellMetadata": {
      "byteLimit": 2048000,
      "rowLimit": 10000
     },
     "inputWidgets": {},
     "nuid": "640b44ac-0ea6-4fe2-9297-93b7e4952345",
     "showTitle": false,
     "tableResultSettingsMap": {},
     "title": ""
    }
   },
   "outputs": [
    {
     "output_type": "stream",
     "name": "stdout",
     "output_type": "stream",
     "text": [
      "Collecting kaggle\n  Downloading kaggle-1.6.17.tar.gz (82 kB)\n\u001B[?25l     \u001B[90m━━━━━━━━━━━━━━━━━━━━━━━━━━━━━━━━━━━━━━━━\u001B[0m \u001B[32m0.0/82.7 kB\u001B[0m \u001B[31m?\u001B[0m eta \u001B[36m-:--:--\u001B[0m\n\u001B[2K     \u001B[90m━━━━━━━━━━━━━━━━━━━━━━━━━━━━━━━━━━━━━━━━\u001B[0m \u001B[32m82.7/82.7 kB\u001B[0m \u001B[31m3.4 MB/s\u001B[0m eta \u001B[36m0:00:00\u001B[0m\n\u001B[?25h  Preparing metadata (setup.py): started\n  Preparing metadata (setup.py): finished with status 'done'\nRequirement already satisfied: six>=1.10 in /usr/lib/python3/dist-packages (from kaggle) (1.16.0)\nRequirement already satisfied: certifi>=2023.7.22 in /databricks/python3/lib/python3.12/site-packages (from kaggle) (2024.6.2)\nRequirement already satisfied: python-dateutil in /databricks/python3/lib/python3.12/site-packages (from kaggle) (2.9.0.post0)\nRequirement already satisfied: requests in /databricks/python3/lib/python3.12/site-packages (from kaggle) (2.32.2)\nRequirement already satisfied: tqdm in /databricks/python3/lib/python3.12/site-packages (from kaggle) (4.66.4)\nCollecting python-slugify (from kaggle)\n  Downloading python_slugify-8.0.4-py2.py3-none-any.whl.metadata (8.5 kB)\nRequirement already satisfied: urllib3 in /databricks/python3/lib/python3.12/site-packages (from kaggle) (1.26.16)\nRequirement already satisfied: bleach in /databricks/python3/lib/python3.12/site-packages (from kaggle) (4.1.0)\nRequirement already satisfied: packaging in /databricks/python3/lib/python3.12/site-packages (from bleach->kaggle) (24.1)\nRequirement already satisfied: webencodings in /databricks/python3/lib/python3.12/site-packages (from bleach->kaggle) (0.5.1)\nCollecting text-unidecode>=1.3 (from python-slugify->kaggle)\n  Downloading text_unidecode-1.3-py2.py3-none-any.whl.metadata (2.4 kB)\nRequirement already satisfied: charset-normalizer<4,>=2 in /databricks/python3/lib/python3.12/site-packages (from requests->kaggle) (2.0.4)\nRequirement already satisfied: idna<4,>=2.5 in /databricks/python3/lib/python3.12/site-packages (from requests->kaggle) (3.7)\nDownloading python_slugify-8.0.4-py2.py3-none-any.whl (10 kB)\nDownloading text_unidecode-1.3-py2.py3-none-any.whl (78 kB)\n\u001B[?25l   \u001B[90m━━━━━━━━━━━━━━━━━━━━━━━━━━━━━━━━━━━━━━━━\u001B[0m \u001B[32m0.0/78.2 kB\u001B[0m \u001B[31m?\u001B[0m eta \u001B[36m-:--:--\u001B[0m\n\u001B[2K   \u001B[90m━━━━━━━━━━━━━━━━━━━━━━━━━━━━━━━━━━━━━━━━\u001B[0m \u001B[32m78.2/78.2 kB\u001B[0m \u001B[31m7.6 MB/s\u001B[0m eta \u001B[36m0:00:00\u001B[0m\n\u001B[?25hBuilding wheels for collected packages: kaggle\n  Building wheel for kaggle (setup.py): started\n  Building wheel for kaggle (setup.py): finished with status 'done'\n  Created wheel for kaggle: filename=kaggle-1.6.17-py3-none-any.whl size=105786 sha256=369d27e37cf04070e4065a1a9d5d972545f90b407403fcfa89c1229cc512730a\n  Stored in directory: /root/.cache/pip/wheels/46/d2/26/84d0a1acdb9c6baccf7d28cf06962ec80529fe1ad938489983\nSuccessfully built kaggle\nInstalling collected packages: text-unidecode, python-slugify, kaggle\nSuccessfully installed kaggle-1.6.17 python-slugify-8.0.4 text-unidecode-1.3\n\u001B[43mNote: you may need to restart the kernel using %restart_python or dbutils.library.restartPython() to use updated packages.\u001B[0m\n"
     ]
    }
   ],
   "source": [
    "!pip install kaggle"
   ]
  },
  {
   "cell_type": "code",
   "execution_count": 0,
   "metadata": {
    "application/vnd.databricks.v1+cell": {
     "cellMetadata": {
      "byteLimit": 2048000,
      "rowLimit": 10000
     },
     "inputWidgets": {},
     "nuid": "1cb52390-d018-4b86-a05e-7673471b67ee",
     "showTitle": false,
     "tableResultSettingsMap": {},
     "title": ""
    }
   },
   "outputs": [
    {
     "output_type": "stream",
     "name": "stdout",
     "output_type": "stream",
     "text": [
      "Kaggle credentials are set\n"
     ]
    }
   ],
   "source": [
    "import os\n",
    "import json\n",
    "\n",
    "# Load kaggle.json (assuming it’s in the '/dbfs/tmp/' directory)\n",
    "with open('/Workspace/Users/jkope@gmu.edu/kaggle.json', 'r') as f: # replace with your own path\n",
    "    kaggle_credentials = json.load(f)\n",
    "\n",
    "# Set the environment variables for authentication\n",
    "os.environ['KAGGLE_USERNAME'] = kaggle_credentials['username']\n",
    "os.environ['KAGGLE_KEY'] = kaggle_credentials['key']\n",
    "\n",
    "# Check if credentials are set correctly\n",
    "print(\"Kaggle credentials are set\")"
   ]
  },
  {
   "cell_type": "code",
   "execution_count": 0,
   "metadata": {
    "application/vnd.databricks.v1+cell": {
     "cellMetadata": {
      "byteLimit": 2048000,
      "rowLimit": 10000
     },
     "inputWidgets": {},
     "nuid": "e0631aaf-155f-41f3-8190-33d4a461091f",
     "showTitle": false,
     "tableResultSettingsMap": {},
     "title": ""
    }
   },
   "outputs": [
    {
     "output_type": "stream",
     "name": "stdout",
     "output_type": "stream",
     "text": [
      "Dataset URL: https://www.kaggle.com/datasets/matt2434/cleaned-ecommerce-data\r\nLicense(s): apache-2.0\r\nDownloading cleaned-ecommerce-data.zip to /dbfs/tmp/kaggle_data\r\n\r  0%|                                               | 0.00/1.65G [00:00<?, ?B/s]\r  0%|                                      | 5.00M/1.65G [00:00<01:01, 28.9MB/s]\r  1%|▏                                     | 9.00M/1.65G [00:00<00:51, 34.0MB/s]\r  1%|▎                                     | 13.0M/1.65G [00:00<00:59, 29.5MB/s]\r  1%|▎                                     | 16.0M/1.65G [00:00<00:58, 30.0MB/s]\r  1%|▍                                     | 20.0M/1.65G [00:00<01:02, 28.2MB/s]\r  1%|▌                                     | 25.0M/1.65G [00:00<00:58, 29.9MB/s]\r  2%|▋                                     | 28.0M/1.65G [00:01<01:22, 21.2MB/s]\r  2%|▊                                     | 35.0M/1.65G [00:01<01:05, 26.7MB/s]\r  3%|▉                                     | 44.0M/1.65G [00:01<00:50, 34.0MB/s]\r  3%|█▏                                    | 51.0M/1.65G [00:01<01:01, 28.2MB/s]\r  3%|█▎                                    | 58.0M/1.65G [00:02<00:51, 33.1MB/s]\r  4%|█▍                                    | 65.0M/1.65G [00:02<00:44, 38.7MB/s]\r  4%|█▋                                    | 73.0M/1.65G [00:02<00:39, 43.5MB/s]\r  5%|█▊                                    | 81.0M/1.65G [00:02<00:45, 37.5MB/s]\r  5%|█▉                                    | 89.0M/1.65G [00:02<00:49, 34.0MB/s]\r  6%|██▏                                   | 97.0M/1.65G [00:03<00:54, 30.5MB/s]\r  6%|██▍                                    | 106M/1.65G [00:03<00:42, 39.2MB/s]\r  7%|██▋                                    | 118M/1.65G [00:03<00:30, 53.3MB/s]\r  7%|██▉                                    | 125M/1.65G [00:03<00:33, 48.4MB/s]\r  8%|███                                    | 131M/1.65G [00:03<00:33, 48.5MB/s]\r  8%|███▏                                   | 139M/1.65G [00:03<00:29, 55.5MB/s]\r  9%|███▎                                   | 146M/1.65G [00:04<00:39, 40.8MB/s]\r  9%|███▌                                   | 153M/1.65G [00:04<00:48, 33.1MB/s]\r 10%|███▉                                   | 169M/1.65G [00:04<00:30, 52.6MB/s]\r 10%|████                                   | 177M/1.65G [00:04<00:34, 46.7MB/s]\r 11%|████▍                                  | 193M/1.65G [00:05<00:30, 52.2MB/s]\r 12%|████▊                                  | 209M/1.65G [00:05<00:23, 65.6MB/s]\r 13%|█████▏                                 | 225M/1.65G [00:05<00:19, 77.8MB/s]\r 14%|█████▍                                 | 234M/1.65G [00:05<00:19, 78.6MB/s]\r 15%|█████▊                                 | 251M/1.65G [00:05<00:15, 98.9MB/s]\r 15%|██████                                 | 262M/1.65G [00:05<00:21, 70.8MB/s]\r 16%|██████▎                                | 275M/1.65G [00:05<00:17, 82.8MB/s]\r 17%|██████▉                                 | 296M/1.65G [00:06<00:13, 111MB/s]\r 18%|███████▎                                | 310M/1.65G [00:06<00:12, 112MB/s]\r 19%|███████▋                                | 323M/1.65G [00:06<00:13, 110MB/s]\r 20%|███████▋                               | 335M/1.65G [00:06<00:16, 86.3MB/s]\r 21%|████████▏                              | 353M/1.65G [00:06<00:15, 91.3MB/s]\r 22%|████████▊                               | 375M/1.65G [00:06<00:11, 119MB/s]\r 23%|█████████▏                              | 389M/1.65G [00:06<00:11, 120MB/s]\r 24%|█████████▍                              | 402M/1.65G [00:07<00:11, 120MB/s]\r 25%|█████████▊                              | 417M/1.65G [00:07<00:12, 104MB/s]\r 26%|██████████▏                            | 441M/1.65G [00:07<00:14, 92.2MB/s]\r 28%|███████████                             | 466M/1.65G [00:07<00:10, 122MB/s]\r 28%|███████████                            | 481M/1.65G [00:08<00:14, 86.4MB/s]\r 30%|████████████                            | 510M/1.65G [00:08<00:10, 121MB/s]\r 31%|████████████▏                          | 527M/1.65G [00:08<00:13, 91.3MB/s]\r 33%|████████████▋                          | 553M/1.65G [00:08<00:12, 97.1MB/s]\r 35%|█████████████▊                          | 585M/1.65G [00:08<00:09, 118MB/s]\r 36%|██████████████▍                         | 609M/1.65G [00:09<00:09, 122MB/s]\r 37%|██████████████▉                         | 633M/1.65G [00:09<00:07, 143MB/s]\r 38%|███████████████▎                        | 650M/1.65G [00:09<00:09, 120MB/s]\r 40%|████████████████                        | 681M/1.65G [00:09<00:07, 136MB/s]\r 42%|████████████████▋                       | 707M/1.65G [00:09<00:06, 161MB/s]\r 43%|█████████████████                       | 725M/1.65G [00:09<00:06, 149MB/s]\r 44%|█████████████████▌                      | 745M/1.65G [00:10<00:08, 119MB/s]\r 46%|██████████████████▎                     | 777M/1.65G [00:10<00:08, 110MB/s]\r 47%|██████████████████▋                     | 790M/1.65G [00:10<00:08, 110MB/s]\r 48%|███████████████████                     | 809M/1.65G [00:10<00:09, 101MB/s]\r 50%|███████████████████▎                   | 841M/1.65G [00:11<00:09, 94.0MB/s]\r 51%|████████████████████▌                   | 869M/1.65G [00:11<00:07, 121MB/s]\r 52%|████████████████████▉                   | 885M/1.65G [00:11<00:07, 113MB/s]\r 54%|█████████████████████▌                  | 913M/1.65G [00:11<00:06, 122MB/s]\r 55%|█████████████████████▉                  | 927M/1.65G [00:11<00:07, 112MB/s]\r 56%|██████████████████████▎                 | 945M/1.65G [00:12<00:07, 103MB/s]\r 58%|███████████████████████                 | 976M/1.65G [00:12<00:05, 141MB/s]\r 59%|██████████████████████▊                | 993M/1.65G [00:12<00:07, 97.3MB/s]\r 60%|██████████████████████▋               | 0.99G/1.65G [00:12<00:08, 89.2MB/s]\r 60%|███████████████████████▌               | 1.00G/1.65G [00:12<00:07, 100MB/s]\r 61%|███████████████████████▉               | 1.02G/1.65G [00:13<00:06, 107MB/s]\r 62%|████████████████████████▎              | 1.03G/1.65G [00:13<00:06, 105MB/s]\r 64%|████████████████████████▉              | 1.06G/1.65G [00:13<00:04, 137MB/s]\r 65%|████████████████████████▋             | 1.07G/1.65G [00:13<00:07, 78.7MB/s]\r 66%|█████████████████████████▊             | 1.10G/1.65G [00:13<00:05, 103MB/s]\r 67%|██████████████████████████▏            | 1.11G/1.65G [00:14<00:05, 109MB/s]\r 69%|██████████████████████████▋            | 1.13G/1.65G [00:14<00:04, 120MB/s]\r 70%|███████████████████████████▎           | 1.16G/1.65G [00:14<00:03, 154MB/s]\r 71%|███████████████████████████▊           | 1.18G/1.65G [00:14<00:03, 131MB/s]\r 72%|████████████████████████████▏          | 1.20G/1.65G [00:14<00:03, 130MB/s]\r 73%|████████████████████████████▌          | 1.21G/1.65G [00:14<00:03, 129MB/s]\r 74%|████████████████████████████▉          | 1.23G/1.65G [00:14<00:03, 125MB/s]\r 75%|█████████████████████████████▍         | 1.25G/1.65G [00:15<00:02, 148MB/s]\r 77%|█████████████████████████████▊         | 1.27G/1.65G [00:15<00:03, 112MB/s]\r 78%|██████████████████████████████▍        | 1.29G/1.65G [00:15<00:02, 142MB/s]\r 79%|██████████████████████████████▊        | 1.31G/1.65G [00:15<00:03, 108MB/s]\r 81%|██████████████████████████████▋       | 1.34G/1.65G [00:16<00:03, 91.5MB/s]\r 83%|████████████████████████████████▏      | 1.37G/1.65G [00:16<00:02, 123MB/s]\r 84%|████████████████████████████████▌      | 1.38G/1.65G [00:16<00:02, 119MB/s]\r 85%|█████████████████████████████████▎     | 1.41G/1.65G [00:16<00:01, 155MB/s]\r 87%|█████████████████████████████████▊     | 1.43G/1.65G [00:16<00:01, 123MB/s]\r 88%|██████████████████████████████████▎    | 1.45G/1.65G [00:16<00:01, 136MB/s]\r 89%|██████████████████████████████████▋    | 1.47G/1.65G [00:17<00:01, 109MB/s]\r 90%|███████████████████████████████████▏   | 1.49G/1.65G [00:17<00:01, 106MB/s]\r 91%|███████████████████████████████████▌   | 1.51G/1.65G [00:17<00:01, 114MB/s]\r 92%|████████████████████████████████████   | 1.53G/1.65G [00:17<00:01, 134MB/s]\r 94%|████████████████████████████████████▋  | 1.55G/1.65G [00:17<00:00, 163MB/s]\r 95%|█████████████████████████████████████  | 1.57G/1.65G [00:17<00:00, 154MB/s]\r 96%|█████████████████████████████████████▍ | 1.59G/1.65G [00:17<00:00, 159MB/s]\r 97%|█████████████████████████████████████▊ | 1.61G/1.65G [00:18<00:00, 149MB/s]\r 98%|██████████████████████████████████████▎| 1.63G/1.65G [00:18<00:00, 115MB/s]\r100%|███████████████████████████████████████| 1.65G/1.65G [00:18<00:00, 152MB/s]\r\n\r100%|██████████████████████████████████████| 1.65G/1.65G [00:18<00:00, 94.4MB/s]\r\nArchive:  /dbfs/tmp/kaggle_data/cleaned-ecommerce-data.zip\r\n  inflating: /dbfs/tmp/kaggle_data/2019-Dec-Cleaned.csv  \r\n  inflating: /dbfs/tmp/kaggle_data/2019-Nov-Cleaned.csv  \r\n"
     ]
    }
   ],
   "source": [
    "!kaggle datasets download -d matt2434/cleaned-ecommerce-data -p /dbfs/tmp/kaggle_data && unzip /dbfs/tmp/kaggle_data/cleaned-ecommerce-data.zip -d /dbfs/tmp/kaggle_data"
   ]
  },
  {
   "cell_type": "code",
   "execution_count": 0,
   "metadata": {
    "application/vnd.databricks.v1+cell": {
     "cellMetadata": {
      "byteLimit": 2048000,
      "rowLimit": 10000
     },
     "inputWidgets": {},
     "nuid": "115dcdf3-a5f2-4f89-afb1-c0a8080a1a07",
     "showTitle": false,
     "tableResultSettingsMap": {},
     "title": ""
    }
   },
   "outputs": [
    {
     "output_type": "execute_result",
     "data": {
      "text/plain": [
       "[FileInfo(path='dbfs:/tmp/kaggle_data/2019-Dec-Cleaned.csv', name='2019-Dec-Cleaned.csv', size=395749939, modificationTime=1732684596000),\n",
       " FileInfo(path='dbfs:/tmp/kaggle_data/2019-Nov-Cleaned.csv', name='2019-Nov-Cleaned.csv', size=5981645247, modificationTime=1732684662000),\n",
       " FileInfo(path='dbfs:/tmp/kaggle_data/cleaned-ecommerce-data.zip', name='cleaned-ecommerce-data.zip', size=1776673282, modificationTime=1732684590000)]"
      ]
     },
     "execution_count": 5,
     "metadata": {},
     "output_type": "execute_result"
    }
   ],
   "source": [
    "dbutils.fs.ls(\"dbfs:/tmp/kaggle_data\")"
   ]
  },
  {
   "cell_type": "code",
   "execution_count": 0,
   "metadata": {
    "application/vnd.databricks.v1+cell": {
     "cellMetadata": {
      "byteLimit": 2048000,
      "rowLimit": 10000
     },
     "inputWidgets": {},
     "nuid": "c338e0e7-d542-4bac-b572-13f9ea3fa026",
     "showTitle": false,
     "tableResultSettingsMap": {},
     "title": ""
    }
   },
   "outputs": [],
   "source": [
    "nov_path = 'dbfs:/tmp/kaggle_data/2019-Nov-Cleaned.csv'\n",
    "dec_path = 'dbfs:/tmp/kaggle_data/2019-Dec-Cleaned.csv'\n",
    "\n",
    "novf = spark.read.csv(nov_path, header=True, inferSchema=True)\n",
    "decf = spark.read.csv(dec_path, header=True, inferSchema=True)"
   ]
  },
  {
   "cell_type": "code",
   "execution_count": 0,
   "metadata": {
    "application/vnd.databricks.v1+cell": {
     "cellMetadata": {
      "byteLimit": 2048000,
      "rowLimit": 10000
     },
     "inputWidgets": {},
     "nuid": "62c5a42f-1574-4868-8e54-7e9993eefb08",
     "showTitle": false,
     "tableResultSettingsMap": {},
     "title": ""
    }
   },
   "outputs": [
    {
     "output_type": "stream",
     "name": "stdout",
     "output_type": "stream",
     "text": [
      "+-------------------+----------+----------+-------------------+--------------------+-------+------+---------+--------------------+\n|         event_time|event_type|product_id|        category_id|       category_code|  brand| price|  user_id|        user_session|\n+-------------------+----------+----------+-------------------+--------------------+-------+------+---------+--------------------+\n|2019-11-01 00:00:00|      view|   1003461|2053013555631882655|electronics.smart...| xiaomi|489.07|520088904|4d3b30da-a5e4-49d...|\n|2019-11-01 00:00:00|      view|   5000088|2053013566100866035|appliances.sewing...| janome|293.65|530496790|8e5f4f83-366c-4f7...|\n|2019-11-01 00:00:01|      view|   3601530|2053013563810775923|appliances.kitche...|     lg|712.87|518085591|3bfb58cd-7892-48c...|\n|2019-11-01 00:00:01|      view|   1004775|2053013555631882655|electronics.smart...| xiaomi|183.27|558856683|313628f1-68b8-460...|\n|2019-11-01 00:00:01|      view|   1306894|2053013558920217191|  computers.notebook|     hp|360.09|520772685|816a59f3-f5ae-4cc...|\n|2019-11-01 00:00:01|      view|   1306421|2053013558920217191|  computers.notebook|     hp|514.56|514028527|df8184cc-3694-454...|\n|2019-11-01 00:00:02|      view|   1004258|2053013555631882655|electronics.smart...|  apple|732.07|532647354|d2d3d2c6-631d-489...|\n|2019-11-01 00:00:05|      view|   4600658|2053013563944993659|appliances.kitche...|samsung|411.83|526595547|aab33a9a-29c3-4d5...|\n|2019-11-01 00:00:07|      view|   1004566|2053013555631882655|electronics.smart...| huawei|164.84|566265908|52c2c76c-b79e-479...|\n|2019-11-01 00:00:08|      view|   1307115|2053013558920217191|  computers.notebook|     hp|411.59|514028527|df8184cc-3694-454...|\n|2019-11-01 00:00:08|      view|   1004708|2053013555631882655|electronics.smart...| huawei|151.99|566143627|aa610ab3-5c60-455...|\n|2019-11-01 00:00:10|      view|   1005115|2053013555631882655|electronics.smart...|  apple|949.47|562079864|0fe64462-83eb-413...|\n|2019-11-01 00:00:10|      view|   1307350|2053013558920217191|  computers.notebook|   acer|514.79|513741043|82f7f972-346a-41f...|\n|2019-11-01 00:00:11|      view|   1307340|2053013558920217191|  computers.notebook|   asus|360.34|520772685|816a59f3-f5ae-4cc...|\n|2019-11-01 00:00:12|      view|  16700826|2053013559901684381|furniture.kitchen...|   nika| 47.77|566255262|173d7b72-1db7-463...|\n|2019-11-01 00:00:13|      view|   4804194|2053013554658804075|electronics.audio...|   acme| 69.24|565731881|5d8cb7aa-ca44-470...|\n|2019-11-01 00:00:13|      view|   3701016|2053013565983425517|appliances.enviro...|  tefal|108.09|566278257|5cafe67a-3c46-4b4...|\n|2019-11-01 00:00:14|      view|   1002544|2053013555631882655|electronics.smart...|  apple|458.28|549256216|dcbdc6e4-cd49-4ee...|\n|2019-11-01 00:00:14|      cart|   1005014|2053013555631882655|electronics.smart...|samsung|503.09|533326659|6b928be2-2bce-464...|\n|2019-11-01 00:00:15|      view|   3901174|2053013552326770905|appliances.enviro...|  oasis| 32.66|513200477|742aba02-727b-4d1...|\n+-------------------+----------+----------+-------------------+--------------------+-------+------+---------+--------------------+\nonly showing top 20 rows\n\n"
     ]
    }
   ],
   "source": [
    "novf.show()"
   ]
  },
  {
   "cell_type": "code",
   "execution_count": 0,
   "metadata": {
    "application/vnd.databricks.v1+cell": {
     "cellMetadata": {
      "byteLimit": 2048000,
      "rowLimit": 10000
     },
     "inputWidgets": {},
     "nuid": "77aa38e6-d360-4098-8c55-de908ecc1bd1",
     "showTitle": false,
     "tableResultSettingsMap": {},
     "title": ""
    }
   },
   "outputs": [],
   "source": [
    "df = novf.union(decf)"
   ]
  },
  {
   "cell_type": "code",
   "execution_count": 0,
   "metadata": {
    "application/vnd.databricks.v1+cell": {
     "cellMetadata": {
      "byteLimit": 2048000,
      "rowLimit": 10000
     },
     "inputWidgets": {},
     "nuid": "feaeb031-d546-4d7a-b87a-053517fb279a",
     "showTitle": false,
     "tableResultSettingsMap": {},
     "title": ""
    }
   },
   "outputs": [],
   "source": [
    "# Step 0: Import Libraries for Preprocessing Brand\n",
    "from pyspark.sql import SparkSession\n",
    "from pyspark.ml.feature import StringIndexer, OneHotEncoder"
   ]
  },
  {
   "cell_type": "code",
   "execution_count": 0,
   "metadata": {
    "application/vnd.databricks.v1+cell": {
     "cellMetadata": {
      "byteLimit": 2048000,
      "rowLimit": 10000
     },
     "inputWidgets": {},
     "nuid": "ee2d45b7-f96b-4b4b-aaf1-bdedc9a76a3f",
     "showTitle": false,
     "tableResultSettingsMap": {},
     "title": ""
    }
   },
   "outputs": [
    {
     "output_type": "stream",
     "name": "stdout",
     "output_type": "stream",
     "text": [
      "+-------------------+----------+----------+-------------------+-----------------------------------+-------+------+---------+------------------------------------+-----------+\n|event_time         |event_type|product_id|category_id        |category_code                      |brand  |price |user_id  |user_session                        |brand_index|\n+-------------------+----------+----------+-------------------+-----------------------------------+-------+------+---------+------------------------------------+-----------+\n|2019-11-01 00:00:00|view      |1003461   |2053013555631882655|electronics.smartphone             |xiaomi |489.07|520088904|4d3b30da-a5e4-49df-b1a8-ba5943f1dd33|2.0        |\n|2019-11-01 00:00:00|view      |5000088   |2053013566100866035|appliances.sewing_machine          |janome |293.65|530496790|8e5f4f83-366c-4f70-860e-ca7417414283|31.0       |\n|2019-11-01 00:00:01|view      |3601530   |2053013563810775923|appliances.kitchen.washer          |lg     |712.87|518085591|3bfb58cd-7892-48cc-8020-2f17e6de6e7f|4.0        |\n|2019-11-01 00:00:01|view      |1004775   |2053013555631882655|electronics.smartphone             |xiaomi |183.27|558856683|313628f1-68b8-460d-84f6-cec7a8796ef2|2.0        |\n|2019-11-01 00:00:01|view      |1306894   |2053013558920217191|computers.notebook                 |hp     |360.09|520772685|816a59f3-f5ae-4ccd-9b23-82aa8c23d33c|10.0       |\n|2019-11-01 00:00:01|view      |1306421   |2053013558920217191|computers.notebook                 |hp     |514.56|514028527|df8184cc-3694-4549-8c8c-6b5171877376|10.0       |\n|2019-11-01 00:00:02|view      |1004258   |2053013555631882655|electronics.smartphone             |apple  |732.07|532647354|d2d3d2c6-631d-489e-9fb5-06f340b85be0|1.0        |\n|2019-11-01 00:00:05|view      |4600658   |2053013563944993659|appliances.kitchen.dishwasher      |samsung|411.83|526595547|aab33a9a-29c3-4d50-84c1-8a2bc9256104|0.0        |\n|2019-11-01 00:00:07|view      |1004566   |2053013555631882655|electronics.smartphone             |huawei |164.84|566265908|52c2c76c-b79e-4794-86ff-badc76d35f5a|3.0        |\n|2019-11-01 00:00:08|view      |1307115   |2053013558920217191|computers.notebook                 |hp     |411.59|514028527|df8184cc-3694-4549-8c8c-6b5171877376|10.0       |\n|2019-11-01 00:00:08|view      |1004708   |2053013555631882655|electronics.smartphone             |huawei |151.99|566143627|aa610ab3-5c60-4551-8a2b-8c999dddf843|3.0        |\n|2019-11-01 00:00:10|view      |1005115   |2053013555631882655|electronics.smartphone             |apple  |949.47|562079864|0fe64462-83eb-4131-ab00-8e764dd995c3|1.0        |\n|2019-11-01 00:00:10|view      |1307350   |2053013558920217191|computers.notebook                 |acer   |514.79|513741043|82f7f972-346a-41f1-ae58-3ccf1edf6726|8.0        |\n|2019-11-01 00:00:11|view      |1307340   |2053013558920217191|computers.notebook                 |asus   |360.34|520772685|816a59f3-f5ae-4ccd-9b23-82aa8c23d33c|12.0       |\n|2019-11-01 00:00:12|view      |16700826  |2053013559901684381|furniture.kitchen.chair            |nika   |47.77 |566255262|173d7b72-1db7-4638-8207-be8148bf3c9f|112.0      |\n|2019-11-01 00:00:13|view      |4804194   |2053013554658804075|electronics.audio.headphone        |acme   |69.24 |565731881|5d8cb7aa-ca44-4705-809d-53c97b497e16|273.0      |\n|2019-11-01 00:00:13|view      |3701016   |2053013565983425517|appliances.environment.vacuum      |tefal  |108.09|566278257|5cafe67a-3c46-4b47-a46a-ab30de4356bc|19.0       |\n|2019-11-01 00:00:14|view      |1002544   |2053013555631882655|electronics.smartphone             |apple  |458.28|549256216|dcbdc6e4-cd49-4ee8-95c5-e85f3c618fa1|1.0        |\n|2019-11-01 00:00:14|cart      |1005014   |2053013555631882655|electronics.smartphone             |samsung|503.09|533326659|6b928be2-2bce-4640-8296-0efdf2fda22a|0.0        |\n|2019-11-01 00:00:15|view      |3901174   |2053013552326770905|appliances.environment.water_heater|oasis  |32.66 |513200477|742aba02-727b-4d15-9222-6484ac846173|57.0       |\n+-------------------+----------+----------+-------------------+-----------------------------------+-------+------+---------+------------------------------------+-----------+\nonly showing top 20 rows\n\n"
     ]
    }
   ],
   "source": [
    "# Step 1: Use StringIndexer to convert brand column to numeric indices\n",
    "indexer = StringIndexer(inputCol=\"brand\", outputCol=\"brand_index\")\n",
    "df_indexed = indexer.fit(df).transform(df)\n",
    "df_indexed.show(truncate=False)"
   ]
  },
  {
   "cell_type": "code",
   "execution_count": 0,
   "metadata": {
    "application/vnd.databricks.v1+cell": {
     "cellMetadata": {
      "byteLimit": 2048000,
      "rowLimit": 10000
     },
     "inputWidgets": {},
     "nuid": "08d47156-66e2-4265-aaeb-42fd95bed61f",
     "showTitle": false,
     "tableResultSettingsMap": {},
     "title": ""
    }
   },
   "outputs": [
    {
     "output_type": "stream",
     "name": "stdout",
     "output_type": "stream",
     "text": [
      "+-------------------+----------+----------+-------------------+-----------------------------------+-------+------+---------+------------------------------------+-----------+------------------+\n|event_time         |event_type|product_id|category_id        |category_code                      |brand  |price |user_id  |user_session                        |brand_index|brand_onehot      |\n+-------------------+----------+----------+-------------------+-----------------------------------+-------+------+---------+------------------------------------+-----------+------------------+\n|2019-11-01 00:00:00|view      |1003461   |2053013555631882655|electronics.smartphone             |xiaomi |489.07|520088904|4d3b30da-a5e4-49df-b1a8-ba5943f1dd33|2.0        |(3514,[2],[1.0])  |\n|2019-11-01 00:00:00|view      |5000088   |2053013566100866035|appliances.sewing_machine          |janome |293.65|530496790|8e5f4f83-366c-4f70-860e-ca7417414283|31.0       |(3514,[31],[1.0]) |\n|2019-11-01 00:00:01|view      |3601530   |2053013563810775923|appliances.kitchen.washer          |lg     |712.87|518085591|3bfb58cd-7892-48cc-8020-2f17e6de6e7f|4.0        |(3514,[4],[1.0])  |\n|2019-11-01 00:00:01|view      |1004775   |2053013555631882655|electronics.smartphone             |xiaomi |183.27|558856683|313628f1-68b8-460d-84f6-cec7a8796ef2|2.0        |(3514,[2],[1.0])  |\n|2019-11-01 00:00:01|view      |1306894   |2053013558920217191|computers.notebook                 |hp     |360.09|520772685|816a59f3-f5ae-4ccd-9b23-82aa8c23d33c|10.0       |(3514,[10],[1.0]) |\n|2019-11-01 00:00:01|view      |1306421   |2053013558920217191|computers.notebook                 |hp     |514.56|514028527|df8184cc-3694-4549-8c8c-6b5171877376|10.0       |(3514,[10],[1.0]) |\n|2019-11-01 00:00:02|view      |1004258   |2053013555631882655|electronics.smartphone             |apple  |732.07|532647354|d2d3d2c6-631d-489e-9fb5-06f340b85be0|1.0        |(3514,[1],[1.0])  |\n|2019-11-01 00:00:05|view      |4600658   |2053013563944993659|appliances.kitchen.dishwasher      |samsung|411.83|526595547|aab33a9a-29c3-4d50-84c1-8a2bc9256104|0.0        |(3514,[0],[1.0])  |\n|2019-11-01 00:00:07|view      |1004566   |2053013555631882655|electronics.smartphone             |huawei |164.84|566265908|52c2c76c-b79e-4794-86ff-badc76d35f5a|3.0        |(3514,[3],[1.0])  |\n|2019-11-01 00:00:08|view      |1307115   |2053013558920217191|computers.notebook                 |hp     |411.59|514028527|df8184cc-3694-4549-8c8c-6b5171877376|10.0       |(3514,[10],[1.0]) |\n|2019-11-01 00:00:08|view      |1004708   |2053013555631882655|electronics.smartphone             |huawei |151.99|566143627|aa610ab3-5c60-4551-8a2b-8c999dddf843|3.0        |(3514,[3],[1.0])  |\n|2019-11-01 00:00:10|view      |1005115   |2053013555631882655|electronics.smartphone             |apple  |949.47|562079864|0fe64462-83eb-4131-ab00-8e764dd995c3|1.0        |(3514,[1],[1.0])  |\n|2019-11-01 00:00:10|view      |1307350   |2053013558920217191|computers.notebook                 |acer   |514.79|513741043|82f7f972-346a-41f1-ae58-3ccf1edf6726|8.0        |(3514,[8],[1.0])  |\n|2019-11-01 00:00:11|view      |1307340   |2053013558920217191|computers.notebook                 |asus   |360.34|520772685|816a59f3-f5ae-4ccd-9b23-82aa8c23d33c|12.0       |(3514,[12],[1.0]) |\n|2019-11-01 00:00:12|view      |16700826  |2053013559901684381|furniture.kitchen.chair            |nika   |47.77 |566255262|173d7b72-1db7-4638-8207-be8148bf3c9f|112.0      |(3514,[112],[1.0])|\n|2019-11-01 00:00:13|view      |4804194   |2053013554658804075|electronics.audio.headphone        |acme   |69.24 |565731881|5d8cb7aa-ca44-4705-809d-53c97b497e16|273.0      |(3514,[273],[1.0])|\n|2019-11-01 00:00:13|view      |3701016   |2053013565983425517|appliances.environment.vacuum      |tefal  |108.09|566278257|5cafe67a-3c46-4b47-a46a-ab30de4356bc|19.0       |(3514,[19],[1.0]) |\n|2019-11-01 00:00:14|view      |1002544   |2053013555631882655|electronics.smartphone             |apple  |458.28|549256216|dcbdc6e4-cd49-4ee8-95c5-e85f3c618fa1|1.0        |(3514,[1],[1.0])  |\n|2019-11-01 00:00:14|cart      |1005014   |2053013555631882655|electronics.smartphone             |samsung|503.09|533326659|6b928be2-2bce-4640-8296-0efdf2fda22a|0.0        |(3514,[0],[1.0])  |\n|2019-11-01 00:00:15|view      |3901174   |2053013552326770905|appliances.environment.water_heater|oasis  |32.66 |513200477|742aba02-727b-4d15-9222-6484ac846173|57.0       |(3514,[57],[1.0]) |\n+-------------------+----------+----------+-------------------+-----------------------------------+-------+------+---------+------------------------------------+-----------+------------------+\nonly showing top 20 rows\n\n"
     ]
    }
   ],
   "source": [
    "# Step 2: Fit the OneHotEncoder on the indexed column\n",
    "encoder = OneHotEncoder(inputCol=\"brand_index\", outputCol=\"brand_onehot\")\n",
    "encoder_model = encoder.fit(df_indexed)  # Fit the encoder\n",
    "df_encoded = encoder_model.transform(df_indexed)  # Transform the data using the fitted model\n",
    "\n",
    "df_encoded.show(truncate=False)"
   ]
  },
  {
   "cell_type": "code",
   "execution_count": 0,
   "metadata": {
    "application/vnd.databricks.v1+cell": {
     "cellMetadata": {
      "byteLimit": 2048000,
      "rowLimit": 10000
     },
     "inputWidgets": {},
     "nuid": "3a030418-71ff-4727-9f05-4d82dc8b38d4",
     "showTitle": false,
     "tableResultSettingsMap": {},
     "title": ""
    }
   },
   "outputs": [
    {
     "output_type": "stream",
     "name": "stdout",
     "output_type": "stream",
     "text": [
      "+-------------------+----------+----------+-------------------+-----------------------------------+-------+------+---------+------------------------------------+-----------+------------------+\n|event_time         |event_type|product_id|category_id        |category_code                      |brand  |price |user_id  |user_session                        |brand_index|brand_onehot      |\n+-------------------+----------+----------+-------------------+-----------------------------------+-------+------+---------+------------------------------------+-----------+------------------+\n|2019-11-01 00:00:00|view      |1003461   |2053013555631882655|electronics.smartphone             |xiaomi |489.07|520088904|4d3b30da-a5e4-49df-b1a8-ba5943f1dd33|2.0        |(3514,[2],[1.0])  |\n|2019-11-01 00:00:00|view      |5000088   |2053013566100866035|appliances.sewing_machine          |janome |293.65|530496790|8e5f4f83-366c-4f70-860e-ca7417414283|31.0       |(3514,[31],[1.0]) |\n|2019-11-01 00:00:01|view      |3601530   |2053013563810775923|appliances.kitchen.washer          |lg     |712.87|518085591|3bfb58cd-7892-48cc-8020-2f17e6de6e7f|4.0        |(3514,[4],[1.0])  |\n|2019-11-01 00:00:01|view      |1004775   |2053013555631882655|electronics.smartphone             |xiaomi |183.27|558856683|313628f1-68b8-460d-84f6-cec7a8796ef2|2.0        |(3514,[2],[1.0])  |\n|2019-11-01 00:00:01|view      |1306894   |2053013558920217191|computers.notebook                 |hp     |360.09|520772685|816a59f3-f5ae-4ccd-9b23-82aa8c23d33c|10.0       |(3514,[10],[1.0]) |\n|2019-11-01 00:00:01|view      |1306421   |2053013558920217191|computers.notebook                 |hp     |514.56|514028527|df8184cc-3694-4549-8c8c-6b5171877376|10.0       |(3514,[10],[1.0]) |\n|2019-11-01 00:00:02|view      |1004258   |2053013555631882655|electronics.smartphone             |apple  |732.07|532647354|d2d3d2c6-631d-489e-9fb5-06f340b85be0|1.0        |(3514,[1],[1.0])  |\n|2019-11-01 00:00:05|view      |4600658   |2053013563944993659|appliances.kitchen.dishwasher      |samsung|411.83|526595547|aab33a9a-29c3-4d50-84c1-8a2bc9256104|0.0        |(3514,[0],[1.0])  |\n|2019-11-01 00:00:07|view      |1004566   |2053013555631882655|electronics.smartphone             |huawei |164.84|566265908|52c2c76c-b79e-4794-86ff-badc76d35f5a|3.0        |(3514,[3],[1.0])  |\n|2019-11-01 00:00:08|view      |1307115   |2053013558920217191|computers.notebook                 |hp     |411.59|514028527|df8184cc-3694-4549-8c8c-6b5171877376|10.0       |(3514,[10],[1.0]) |\n|2019-11-01 00:00:08|view      |1004708   |2053013555631882655|electronics.smartphone             |huawei |151.99|566143627|aa610ab3-5c60-4551-8a2b-8c999dddf843|3.0        |(3514,[3],[1.0])  |\n|2019-11-01 00:00:10|view      |1005115   |2053013555631882655|electronics.smartphone             |apple  |949.47|562079864|0fe64462-83eb-4131-ab00-8e764dd995c3|1.0        |(3514,[1],[1.0])  |\n|2019-11-01 00:00:10|view      |1307350   |2053013558920217191|computers.notebook                 |acer   |514.79|513741043|82f7f972-346a-41f1-ae58-3ccf1edf6726|8.0        |(3514,[8],[1.0])  |\n|2019-11-01 00:00:11|view      |1307340   |2053013558920217191|computers.notebook                 |asus   |360.34|520772685|816a59f3-f5ae-4ccd-9b23-82aa8c23d33c|12.0       |(3514,[12],[1.0]) |\n|2019-11-01 00:00:12|view      |16700826  |2053013559901684381|furniture.kitchen.chair            |nika   |47.77 |566255262|173d7b72-1db7-4638-8207-be8148bf3c9f|112.0      |(3514,[112],[1.0])|\n|2019-11-01 00:00:13|view      |4804194   |2053013554658804075|electronics.audio.headphone        |acme   |69.24 |565731881|5d8cb7aa-ca44-4705-809d-53c97b497e16|273.0      |(3514,[273],[1.0])|\n|2019-11-01 00:00:13|view      |3701016   |2053013565983425517|appliances.environment.vacuum      |tefal  |108.09|566278257|5cafe67a-3c46-4b47-a46a-ab30de4356bc|19.0       |(3514,[19],[1.0]) |\n|2019-11-01 00:00:14|view      |1002544   |2053013555631882655|electronics.smartphone             |apple  |458.28|549256216|dcbdc6e4-cd49-4ee8-95c5-e85f3c618fa1|1.0        |(3514,[1],[1.0])  |\n|2019-11-01 00:00:14|cart      |1005014   |2053013555631882655|electronics.smartphone             |samsung|503.09|533326659|6b928be2-2bce-4640-8296-0efdf2fda22a|0.0        |(3514,[0],[1.0])  |\n|2019-11-01 00:00:15|view      |3901174   |2053013552326770905|appliances.environment.water_heater|oasis  |32.66 |513200477|742aba02-727b-4d15-9222-6484ac846173|57.0       |(3514,[57],[1.0]) |\n+-------------------+----------+----------+-------------------+-----------------------------------+-------+------+---------+------------------------------------+-----------+------------------+\nonly showing top 20 rows\n\n"
     ]
    }
   ],
   "source": [
    "# Removing Outliers from Price\n",
    "from pyspark.sql import functions as F\n",
    "\n",
    "# Step 1: Calculate Q1 (25th percentile) and Q3 (75th percentile)\n",
    "q1 = df_encoded.approxQuantile(\"price\", [0.25], 0.01)[0]  # 25th percentile\n",
    "q3 = df_encoded.approxQuantile(\"price\", [0.75], 0.01)[0]  # 75th percentile\n",
    "\n",
    "# Step 2: Calculate IQR (Interquartile Range)\n",
    "iqr = q3 - q1\n",
    "\n",
    "# Step 3: Define outlier bounds\n",
    "lower_bound = q1 - 1.5 * iqr\n",
    "upper_bound = q3 + 1.5 * iqr\n",
    "\n",
    "# Step 4: Filter out outliers\n",
    "df_filtered = df_encoded.filter((df_encoded[\"price\"] >= lower_bound) & (df_encoded[\"price\"] <= upper_bound))\n",
    "\n",
    "df_filtered.show(truncate=False)\n"
   ]
  },
  {
   "cell_type": "code",
   "execution_count": 0,
   "metadata": {
    "application/vnd.databricks.v1+cell": {
     "cellMetadata": {
      "byteLimit": 2048000,
      "rowLimit": 10000
     },
     "inputWidgets": {},
     "nuid": "dbf92f0f-1ed0-479a-9248-75d358a0caf1",
     "showTitle": false,
     "tableResultSettingsMap": {},
     "title": ""
    }
   },
   "outputs": [],
   "source": [
    "#3. Preprocess the Data (Ensure the data is cleaned and in the correct format (numerical values only)).\n",
    "from pyspark.ml.feature import VectorAssembler\n",
    "\n",
    "assembler = VectorAssembler(\n",
    "    inputCols=['price', 'brand_index'],\n",
    "    outputCol='features'\n",
    ")\n",
    "\n",
    "feature_df = assembler.transform(df_filtered)"
   ]
  },
  {
   "cell_type": "code",
   "execution_count": 0,
   "metadata": {
    "application/vnd.databricks.v1+cell": {
     "cellMetadata": {
      "byteLimit": 2048000,
      "rowLimit": 10000
     },
     "inputWidgets": {},
     "nuid": "deac4893-4632-484b-94de-e3962f734b06",
     "showTitle": false,
     "tableResultSettingsMap": {},
     "title": ""
    }
   },
   "outputs": [
    {
     "output_type": "display_data",
     "data": {
      "application/vnd.jupyter.widget-view+json": {
       "model_id": "5fec0b46db284ebd973f0792265e5beb",
       "version_major": 2,
       "version_minor": 0
      },
      "text/plain": [
       "Downloading artifacts:   0%|          | 0/15 [00:00<?, ?it/s]"
      ]
     },
     "metadata": {},
     "output_type": "display_data"
    },
    {
     "output_type": "display_data",
     "data": {
      "application/vnd.jupyter.widget-view+json": {
       "model_id": "1b405f549248455f88b09e30c33b4fbc",
       "version_major": 2,
       "version_minor": 0
      },
      "text/plain": [
       "Uploading artifacts:   0%|          | 0/4 [00:00<?, ?it/s]"
      ]
     },
     "metadata": {},
     "output_type": "display_data"
    }
   ],
   "source": [
    "# 4. Import and Train K-means Model\n",
    "from pyspark.ml.clustering import KMeans\n",
    "\n",
    "# Set the number of clusters (k)\n",
    "kmeans = KMeans().setK(3).setSeed(1)\n",
    "model = kmeans.fit(feature_df)\n"
   ]
  },
  {
   "cell_type": "code",
   "execution_count": 0,
   "metadata": {
    "application/vnd.databricks.v1+cell": {
     "cellMetadata": {
      "byteLimit": 2048000,
      "rowLimit": 10000
     },
     "inputWidgets": {},
     "nuid": "29d3dbdf-f773-4008-8144-0ed82dc1b684",
     "showTitle": false,
     "tableResultSettingsMap": {},
     "title": ""
    }
   },
   "outputs": [
    {
     "output_type": "stream",
     "name": "stdout",
     "output_type": "stream",
     "text": [
      "+-------------------+----------+----------+-------------------+--------------------+-------+------+---------+--------------------+-----------+------------------+-------------+----------+\n|         event_time|event_type|product_id|        category_id|       category_code|  brand| price|  user_id|        user_session|brand_index|      brand_onehot|     features|prediction|\n+-------------------+----------+----------+-------------------+--------------------+-------+------+---------+--------------------+-----------+------------------+-------------+----------+\n|2019-11-01 00:00:00|      view|   1003461|2053013555631882655|electronics.smart...| xiaomi|489.07|520088904|4d3b30da-a5e4-49d...|        2.0|  (3514,[2],[1.0])| [489.07,2.0]|         0|\n|2019-11-01 00:00:00|      view|   5000088|2053013566100866035|appliances.sewing...| janome|293.65|530496790|8e5f4f83-366c-4f7...|       31.0| (3514,[31],[1.0])|[293.65,31.0]|         1|\n|2019-11-01 00:00:01|      view|   3601530|2053013563810775923|appliances.kitche...|     lg|712.87|518085591|3bfb58cd-7892-48c...|        4.0|  (3514,[4],[1.0])| [712.87,4.0]|         0|\n|2019-11-01 00:00:01|      view|   1004775|2053013555631882655|electronics.smart...| xiaomi|183.27|558856683|313628f1-68b8-460...|        2.0|  (3514,[2],[1.0])| [183.27,2.0]|         1|\n|2019-11-01 00:00:01|      view|   1306894|2053013558920217191|  computers.notebook|     hp|360.09|520772685|816a59f3-f5ae-4cc...|       10.0| (3514,[10],[1.0])|[360.09,10.0]|         1|\n|2019-11-01 00:00:01|      view|   1306421|2053013558920217191|  computers.notebook|     hp|514.56|514028527|df8184cc-3694-454...|       10.0| (3514,[10],[1.0])|[514.56,10.0]|         0|\n|2019-11-01 00:00:02|      view|   1004258|2053013555631882655|electronics.smart...|  apple|732.07|532647354|d2d3d2c6-631d-489...|        1.0|  (3514,[1],[1.0])| [732.07,1.0]|         0|\n|2019-11-01 00:00:05|      view|   4600658|2053013563944993659|appliances.kitche...|samsung|411.83|526595547|aab33a9a-29c3-4d5...|        0.0|  (3514,[0],[1.0])| [411.83,0.0]|         1|\n|2019-11-01 00:00:07|      view|   1004566|2053013555631882655|electronics.smart...| huawei|164.84|566265908|52c2c76c-b79e-479...|        3.0|  (3514,[3],[1.0])| [164.84,3.0]|         1|\n|2019-11-01 00:00:08|      view|   1307115|2053013558920217191|  computers.notebook|     hp|411.59|514028527|df8184cc-3694-454...|       10.0| (3514,[10],[1.0])|[411.59,10.0]|         1|\n|2019-11-01 00:00:08|      view|   1004708|2053013555631882655|electronics.smart...| huawei|151.99|566143627|aa610ab3-5c60-455...|        3.0|  (3514,[3],[1.0])| [151.99,3.0]|         1|\n|2019-11-01 00:00:10|      view|   1005115|2053013555631882655|electronics.smart...|  apple|949.47|562079864|0fe64462-83eb-413...|        1.0|  (3514,[1],[1.0])| [949.47,1.0]|         0|\n|2019-11-01 00:00:10|      view|   1307350|2053013558920217191|  computers.notebook|   acer|514.79|513741043|82f7f972-346a-41f...|        8.0|  (3514,[8],[1.0])| [514.79,8.0]|         0|\n|2019-11-01 00:00:11|      view|   1307340|2053013558920217191|  computers.notebook|   asus|360.34|520772685|816a59f3-f5ae-4cc...|       12.0| (3514,[12],[1.0])|[360.34,12.0]|         1|\n|2019-11-01 00:00:12|      view|  16700826|2053013559901684381|furniture.kitchen...|   nika| 47.77|566255262|173d7b72-1db7-463...|      112.0|(3514,[112],[1.0])|[47.77,112.0]|         1|\n|2019-11-01 00:00:13|      view|   4804194|2053013554658804075|electronics.audio...|   acme| 69.24|565731881|5d8cb7aa-ca44-470...|      273.0|(3514,[273],[1.0])|[69.24,273.0]|         1|\n|2019-11-01 00:00:13|      view|   3701016|2053013565983425517|appliances.enviro...|  tefal|108.09|566278257|5cafe67a-3c46-4b4...|       19.0| (3514,[19],[1.0])|[108.09,19.0]|         1|\n|2019-11-01 00:00:14|      view|   1002544|2053013555631882655|electronics.smart...|  apple|458.28|549256216|dcbdc6e4-cd49-4ee...|        1.0|  (3514,[1],[1.0])| [458.28,1.0]|         0|\n|2019-11-01 00:00:14|      cart|   1005014|2053013555631882655|electronics.smart...|samsung|503.09|533326659|6b928be2-2bce-464...|        0.0|  (3514,[0],[1.0])| [503.09,0.0]|         0|\n|2019-11-01 00:00:15|      view|   3901174|2053013552326770905|appliances.enviro...|  oasis| 32.66|513200477|742aba02-727b-4d1...|       57.0| (3514,[57],[1.0])| [32.66,57.0]|         1|\n+-------------------+----------+----------+-------------------+--------------------+-------+------+---------+--------------------+-----------+------------------+-------------+----------+\nonly showing top 20 rows\n\nWithin Set Sum of Squared Errors = 1131393481944.7742\n"
     ]
    }
   ],
   "source": [
    "# 5. Evaluate the Model\n",
    "# Make predictions\n",
    "predictions = model.transform(feature_df)\n",
    "predictions.show()\n",
    "\n",
    "# Evaluate clustering by computing Within Set Sum of Squared Errors (WSSSE)\n",
    "wssse = model.summary.trainingCost\n",
    "print(\"Within Set Sum of Squared Errors = \" + str(wssse))\n"
   ]
  },
  {
   "cell_type": "code",
   "execution_count": 0,
   "metadata": {
    "application/vnd.databricks.v1+cell": {
     "cellMetadata": {
      "byteLimit": 2048000,
      "rowLimit": 10000
     },
     "inputWidgets": {},
     "nuid": "92651be5-3c0f-4f90-8bf4-c6badb4b510a",
     "showTitle": false,
     "tableResultSettingsMap": {},
     "title": ""
    }
   },
   "outputs": [
    {
     "output_type": "stream",
     "name": "stdout",
     "output_type": "stream",
     "text": [
      "Cluster Centers: \n[674.13765494  18.51047531]\n[170.06646369  43.78595293]\n[145.39606236 778.14483276]\n"
     ]
    }
   ],
   "source": [
    "# 6. Anazlyze the Clusters\n",
    "# Display cluster centers\n",
    "centers = model.clusterCenters()\n",
    "print(\"Cluster Centers: \")\n",
    "for center in centers:\n",
    "    print(center)\n"
   ]
  },
  {
   "cell_type": "code",
   "execution_count": 0,
   "metadata": {
    "application/vnd.databricks.v1+cell": {
     "cellMetadata": {
      "byteLimit": 2048000,
      "rowLimit": 10000
     },
     "inputWidgets": {},
     "nuid": "e05d2ffe-29ed-4131-9ce8-7dab59d7339d",
     "showTitle": false,
     "tableResultSettingsMap": {},
     "title": ""
    }
   },
   "outputs": [
    {
     "output_type": "display_data",
     "data": {
      "image/png": "[encoded data removed]",
      "text/plain": [
       "<Figure size 640x480 with 1 Axes>"
      ]
     },
     "metadata": {},
     "output_type": "display_data"
    }
   ],
   "source": [
    "# 7. Visualize the Clusters\n",
    "import matplotlib.pyplot as plt\n",
    "\n",
    "pandas_df = predictions.select(\"price\", \"brand_index\", \"prediction\").toPandas()\n",
    "\n",
    "plt.scatter(pandas_df['price'], pandas_df['brand_index'], c=pandas_df['prediction'], cmap='viridis')\n",
    "plt.xlabel('Feature 1') # Price\n",
    "plt.ylabel('Feature 2') # Brand_Index\n",
    "plt.show()\n"
   ]
  }
 ],
 "metadata": {
  "application/vnd.databricks.v1+notebook": {
   "dashboards": [],
   "environmentMetadata": {
    "base_environment": "",
    "client": "1"
   },
   "language": "python",
   "notebookMetadata": {
    "pythonIndentUnit": 4
   },
   "notebookName": "Untitled Notebook 2024-11-27 00:01:48",
   "widgets": {}
  },
  "language_info": {
   "name": "python"
  }
 },
 "nbformat": 4,
 "nbformat_minor": 0
}
