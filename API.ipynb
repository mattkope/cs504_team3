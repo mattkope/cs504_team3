{
 "cells": [
  {
   "cell_type": "code",
   "execution_count": null,
   "metadata": {},
   "outputs": [],
   "source": [
    "import os\n",
    "import json\n",
    "\n",
    "# Load kaggle.json (assuming it’s in the same directory as the notebook)\n",
    "with open('kaggle.json', 'r') as f:\n",
    "    kaggle_credentials = json.load(f)\n",
    "\n",
    "# Set the environment variables for authentication\n",
    "os.environ['KAGGLE_USERNAME'] = kaggle_credentials['username']\n",
    "os.environ['KAGGLE_KEY'] = kaggle_credentials['key']\n",
    "\n",
    "# Alternatively read: https://github.com/Kaggle/kagglehub/blob/main/README.md\n",
    "# And https://www.kaggle.com/docs/api for more information on the Kaggle API"
   ]
  }
 ],
 "metadata": {
  "kernelspec": {
   "display_name": "AIT-580",
   "language": "python",
   "name": "python3"
  },
  "language_info": {
   "codemirror_mode": {
    "name": "ipython",
    "version": 3
   },
   "file_extension": ".py",
   "mimetype": "text/x-python",
   "name": "python",
   "nbconvert_exporter": "python",
   "pygments_lexer": "ipython3",
   "version": "3.11.9"
  }
 },
 "nbformat": 4,
 "nbformat_minor": 2
}
