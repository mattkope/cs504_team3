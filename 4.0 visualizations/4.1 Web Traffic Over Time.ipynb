{
 "cells": [
  {
   "cell_type": "code",
   "execution_count": null,
   "id": "48a821ae",
   "metadata": {},
   "outputs": [],
   "source": [
    "import pandas as pd\n",
    "import matplotlib.pyplot as plt\n",
    "import nbformat as nbf\n",
    "\n",
    "# Load the web traffic datasets from the provided file paths\n",
    "december_path = '/Users/ishaans/Downloads/2019-Dec-Cleaned.csv'\n",
    "november_path = '/Users/ishaans/Downloads/2019-Nov-Cleaned.csv'\n",
    "\n",
    "try:\n",
    "    december_data = pd.read_csv(december_path)\n",
    "    november_data = pd.read_csv(november_path)\n",
    "except FileNotFoundError:\n",
    "    print(\"One or more dataset files not found. Please ensure the paths are correct and the files exist.\")\n",
    "    exit()\n",
    "\n",
    "# Combine the datasets\n",
    "combined_data = pd.concat([november_data, december_data])\n",
    "\n",
    "# Convert event_time column to datetime and ensure proper sorting of dates\n",
    "combined_data['event_time'] = pd.to_datetime(combined_data['event_time'])\n",
    "combined_data.sort_values(by='event_time', inplace=True)\n",
    "\n",
    "# Calculate web traffic as the count of events per day (extracting date part)\n",
    "combined_data['date'] = combined_data['event_time'].dt.date\n",
    "traffic_data = combined_data.groupby('date').size().reset_index(name='traffic_count')\n",
    "\n",
    "# Plot the web traffic\n",
    "plt.figure(figsize=(12, 6))\n",
    "plt.plot(traffic_data['date'], traffic_data['traffic_count'], marker='o', label='Web Traffic')\n",
    "\n",
    "# Formatting the visualization\n",
    "plt.title('Web Traffic Over Time (November - December 2)', fontsize=14)\n",
    "plt.xlabel('Date', fontsize=12)\n",
    "plt.ylabel('Web Traffic (Event Count)', fontsize=12)\n",
    "plt.grid(True, linestyle='--', alpha=0.6)\n",
    "plt.legend()\n",
    "plt.tight_layout()"
   ]
  },
  {
   "cell_type": "code",
   "execution_count": null,
   "id": "03774aca",
   "metadata": {},
   "outputs": [],
   "source": [
    "\n"
   ]
  }
 ],
 "metadata": {},
 "nbformat": 4,
 "nbformat_minor": 5
}
