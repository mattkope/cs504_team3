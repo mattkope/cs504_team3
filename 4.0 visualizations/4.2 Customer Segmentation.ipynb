{
 "cells": [
  {
   "cell_type": "code",
   "execution_count": 1,
   "id": "cb1b2635-b006-49f0-a3d9-e42164c9a950",
   "metadata": {
    "tags": []
   },
   "outputs": [],
   "source": [
    "import os\n",
    "import json"
   ]
  },
  {
   "cell_type": "code",
   "execution_count": 3,
   "id": "2d21244a-4aa7-4a91-9453-f268b1e313c5",
   "metadata": {
    "tags": []
   },
   "outputs": [
    {
     "name": "stdout",
     "output_type": "stream",
     "text": [
      "Data loaded in 11.081733226776123 seconds\n"
     ]
    }
   ],
   "source": [
    "import pandas as pd\n",
    "from sklearn.cluster import KMeans\n",
    "from sklearn.preprocessing import StandardScaler\n",
    "import time\n",
    "\n",
    "# Load the CSV files using pandas\n",
    " \n",
    "dec_path = \"2019-Dec-Cleaned.csv\"  \n",
    "\n",
    "# Start timer\n",
    "start_time = time.time()\n",
    "\n",
    "#read in csv file\n",
    "dec_df = pd.read_csv(dec_path)\n",
    "\n",
    "# Print time taken to load data\n",
    "print(f\"Data loaded in {time.time() - start_time} seconds\")"
   ]
  },
  {
   "cell_type": "code",
   "execution_count": 15,
   "id": "72dd5e1a-7663-40e7-a78e-f76052ddd77b",
   "metadata": {
    "tags": []
   },
   "outputs": [
    {
     "name": "stdout",
     "output_type": "stream",
     "text": [
      "Data loaded in 241.29883193969727 seconds\n"
     ]
    }
   ],
   "source": [
    "# Load the CSV files using pandas\n",
    "nov_path = \"2019-Nov-Cleaned.csv\"  \n",
    "\n",
    "# Start timer\n",
    "start_time = time.time()\n",
    "\n",
    "nov_df = pd.read_csv(nov_path)\n",
    "\n",
    "# Print time taken to load data\n",
    "print(f\"Data loaded in {time.time() - start_time} seconds\")"
   ]
  },
  {
   "cell_type": "code",
   "execution_count": 16,
   "id": "da5ff011-19d1-4468-9114-c4eed69c4028",
   "metadata": {
    "tags": []
   },
   "outputs": [
    {
     "name": "stdout",
     "output_type": "stream",
     "text": [
      "                event_time event_type  product_id          category_id  \\\n",
      "0  2019-11-01 00:00:00 UTC       view     1003461  2053013555631882655   \n",
      "1  2019-11-01 00:00:00 UTC       view     5000088  2053013566100866035   \n",
      "2  2019-11-01 00:00:01 UTC       view     3601530  2053013563810775923   \n",
      "3  2019-11-01 00:00:01 UTC       view     1004775  2053013555631882655   \n",
      "4  2019-11-01 00:00:01 UTC       view     1306894  2053013558920217191   \n",
      "\n",
      "               category_code   brand   price    user_id  \\\n",
      "0     electronics.smartphone  xiaomi  489.07  520088904   \n",
      "1  appliances.sewing_machine  janome  293.65  530496790   \n",
      "2  appliances.kitchen.washer      lg  712.87  518085591   \n",
      "3     electronics.smartphone  xiaomi  183.27  558856683   \n",
      "4         computers.notebook      hp  360.09  520772685   \n",
      "\n",
      "                           user_session  \n",
      "0  4d3b30da-a5e4-49df-b1a8-ba5943f1dd33  \n",
      "1  8e5f4f83-366c-4f70-860e-ca7417414283  \n",
      "2  3bfb58cd-7892-48cc-8020-2f17e6de6e7f  \n",
      "3  313628f1-68b8-460d-84f6-cec7a8796ef2  \n",
      "4  816a59f3-f5ae-4ccd-9b23-82aa8c23d33c  \n",
      "                event_time event_type  product_id          category_id  \\\n",
      "0  2019-12-01 00:00:00 UTC       view     1005105  2232732093077520756   \n",
      "1  2019-12-01 00:00:01 UTC       view     2402273  2232732100769874463   \n",
      "2  2019-12-01 00:00:02 UTC       view    20100164  2232732110089618156   \n",
      "3  2019-12-01 00:00:02 UTC       view   100008256  2053013561185141473   \n",
      "4  2019-12-01 00:00:03 UTC       view     1005239  2232732093077520756   \n",
      "\n",
      "                  category_code   brand    price    user_id  \\\n",
      "0      construction.tools.light   apple  1302.48  556695836   \n",
      "1  appliances.personal.massager   bosch   313.52  539453785   \n",
      "2              apparel.trousers    nika   101.68  517987650   \n",
      "3          accessories.umbrella    ikea   163.56  542860793   \n",
      "4      construction.tools.light  xiaomi   256.38  525740700   \n",
      "\n",
      "                           user_session  \n",
      "0  ca5eefc5-11f9-450c-91ed-380285a0bc80  \n",
      "1  5ee185a7-0689-4a33-923d-ba0130929a76  \n",
      "2  906c6ca8-ff5c-419a-bde9-967ba8e2233e  \n",
      "3  a1bcb550-1065-4769-a80a-0ccb4bcee78d  \n",
      "4  370e8c88-3d07-41df-9aaa-2adf5a0bf312  \n"
     ]
    }
   ],
   "source": [
    "print(nov_df.head())\n",
    "print(dec_df.head())"
   ]
  },
  {
   "cell_type": "code",
   "execution_count": 17,
   "id": "8c1af19e-2c47-40ed-a7bd-9517dcb13203",
   "metadata": {
    "tags": []
   },
   "outputs": [
    {
     "name": "stdout",
     "output_type": "stream",
     "text": [
      "November dataset columns: ['event_time', 'event_type', 'product_id', 'category_id', 'category_code', 'brand', 'price', 'user_id', 'user_session']\n",
      "December dataset columns: ['event_time', 'event_type', 'product_id', 'category_id', 'category_code', 'brand', 'price', 'user_id', 'user_session']\n"
     ]
    }
   ],
   "source": [
    "# Get column names \n",
    "nov_columns = nov_df.columns.tolist()\n",
    "print(f\"November dataset columns: {nov_columns}\")\n",
    "dec_columns = dec_df.columns.tolist()\n",
    "print(f\"December dataset columns: {dec_columns}\")"
   ]
  },
  {
   "cell_type": "code",
   "execution_count": 30,
   "id": "cc0dca7f-41ba-4439-8ce4-bf6e1c3795bf",
   "metadata": {
    "tags": []
   },
   "outputs": [
    {
     "name": "stdout",
     "output_type": "stream",
     "text": [
      "                event_time event_type  product_id          category_id  \\\n",
      "0  2019-11-01 00:00:00 UTC       view     1003461  2053013555631882655   \n",
      "1  2019-11-01 00:00:00 UTC       view     5000088  2053013566100866035   \n",
      "2  2019-11-01 00:00:01 UTC       view     3601530  2053013563810775923   \n",
      "3  2019-11-01 00:00:01 UTC       view     1004775  2053013555631882655   \n",
      "4  2019-11-01 00:00:01 UTC       view     1306894  2053013558920217191   \n",
      "\n",
      "               category_code   brand   price    user_id  \\\n",
      "0     electronics.smartphone  xiaomi  489.07  520088904   \n",
      "1  appliances.sewing_machine  janome  293.65  530496790   \n",
      "2  appliances.kitchen.washer      lg  712.87  518085591   \n",
      "3     electronics.smartphone  xiaomi  183.27  558856683   \n",
      "4         computers.notebook      hp  360.09  520772685   \n",
      "\n",
      "                           user_session  \n",
      "0  4d3b30da-a5e4-49df-b1a8-ba5943f1dd33  \n",
      "1  8e5f4f83-366c-4f70-860e-ca7417414283  \n",
      "2  3bfb58cd-7892-48cc-8020-2f17e6de6e7f  \n",
      "3  313628f1-68b8-460d-84f6-cec7a8796ef2  \n",
      "4  816a59f3-f5ae-4ccd-9b23-82aa8c23d33c  \n"
     ]
    }
   ],
   "source": [
    "#Visualization\n",
    "import matplotlib.pyplot as plt\n",
    "# combne our data frames \n",
    "combined_df = pd.concat([nov_df, dec_df], ignore_index=True)\n",
    "\n",
    "# print first 5 rows \n",
    "print(combined_df.head())"
   ]
  },
  {
   "cell_type": "code",
   "execution_count": 54,
   "id": "7fdcc40f-e1e7-47a6-b71b-43b1a6ae1d80",
   "metadata": {
    "tags": []
   },
   "outputs": [],
   "source": [
    "#calculate total spending \n",
    "user_spending = df.groupby('user_id')['price'].sum().reset_index()\n",
    "\n",
    "#spending categories \n",
    "spending_bins = [0, 200, 500, 1000, float('inf')]  # Define spending ranges\n",
    "spending_labels = ['Low (0-200)', 'Medium (200-500)', 'High (500-1000)', 'Very High (1000+)']\n",
    "user_spending['spending_category'] = pd.cut(user_spending['price'], bins=spending_bins, labels=spending_labels)\n",
    "\n",
    "# merge spending \n",
    "df = df.merge(user_spending[['user_id', 'spending_category']], on='user_id', how='left')\n"
   ]
  },
  {
   "cell_type": "code",
   "execution_count": 56,
   "id": "ccab53fc-7a4b-4bdb-8b0b-8e5659c0ba41",
   "metadata": {
    "tags": []
   },
   "outputs": [],
   "source": [
    "# count customers in each category \n",
    "category_counts = user_spending['spending_category'].value_counts().sort_index()\n",
    "\n",
    "# create customer count\n",
    "customer_count = df['spending_category'].value_counts().sort_index()\n",
    "\n",
    "df['customer_count'] = df['spending_category'].map(customer_count)"
   ]
  },
  {
   "cell_type": "code",
   "execution_count": 58,
   "id": "5f4f4c60-157c-4a2a-a133-47518a3e0e98",
   "metadata": {
    "tags": []
   },
   "outputs": [
    {
     "data": {
      "text/html": [
       "<div>\n",
       "<style scoped>\n",
       "    .dataframe tbody tr th:only-of-type {\n",
       "        vertical-align: middle;\n",
       "    }\n",
       "\n",
       "    .dataframe tbody tr th {\n",
       "        vertical-align: top;\n",
       "    }\n",
       "\n",
       "    .dataframe thead th {\n",
       "        text-align: right;\n",
       "    }\n",
       "</style>\n",
       "<table border=\"1\" class=\"dataframe\">\n",
       "  <thead>\n",
       "    <tr style=\"text-align: right;\">\n",
       "      <th></th>\n",
       "      <th>event_time</th>\n",
       "      <th>event_type</th>\n",
       "      <th>product_id</th>\n",
       "      <th>category_id</th>\n",
       "      <th>category_code</th>\n",
       "      <th>brand</th>\n",
       "      <th>price</th>\n",
       "      <th>user_id</th>\n",
       "      <th>user_session</th>\n",
       "      <th>spending_category_x</th>\n",
       "      <th>spending_category_y</th>\n",
       "      <th>spending_category</th>\n",
       "      <th>customer_count</th>\n",
       "    </tr>\n",
       "  </thead>\n",
       "  <tbody>\n",
       "    <tr>\n",
       "      <th>0</th>\n",
       "      <td>2019-11-01 00:00:00 UTC</td>\n",
       "      <td>view</td>\n",
       "      <td>1003461</td>\n",
       "      <td>2053013555631882655</td>\n",
       "      <td>electronics.smartphone</td>\n",
       "      <td>xiaomi</td>\n",
       "      <td>489.07</td>\n",
       "      <td>520088904</td>\n",
       "      <td>4d3b30da-a5e4-49df-b1a8-ba5943f1dd33</td>\n",
       "      <td>Very High (1000+)</td>\n",
       "      <td>Very High (1000+)</td>\n",
       "      <td>Very High (1000+)</td>\n",
       "      <td>41391157</td>\n",
       "    </tr>\n",
       "    <tr>\n",
       "      <th>1</th>\n",
       "      <td>2019-11-01 00:00:00 UTC</td>\n",
       "      <td>view</td>\n",
       "      <td>5000088</td>\n",
       "      <td>2053013566100866035</td>\n",
       "      <td>appliances.sewing_machine</td>\n",
       "      <td>janome</td>\n",
       "      <td>293.65</td>\n",
       "      <td>530496790</td>\n",
       "      <td>8e5f4f83-366c-4f70-860e-ca7417414283</td>\n",
       "      <td>Very High (1000+)</td>\n",
       "      <td>Very High (1000+)</td>\n",
       "      <td>Very High (1000+)</td>\n",
       "      <td>41391157</td>\n",
       "    </tr>\n",
       "    <tr>\n",
       "      <th>2</th>\n",
       "      <td>2019-11-01 00:00:01 UTC</td>\n",
       "      <td>view</td>\n",
       "      <td>3601530</td>\n",
       "      <td>2053013563810775923</td>\n",
       "      <td>appliances.kitchen.washer</td>\n",
       "      <td>lg</td>\n",
       "      <td>712.87</td>\n",
       "      <td>518085591</td>\n",
       "      <td>3bfb58cd-7892-48cc-8020-2f17e6de6e7f</td>\n",
       "      <td>Very High (1000+)</td>\n",
       "      <td>Very High (1000+)</td>\n",
       "      <td>Very High (1000+)</td>\n",
       "      <td>41391157</td>\n",
       "    </tr>\n",
       "    <tr>\n",
       "      <th>3</th>\n",
       "      <td>2019-11-01 00:00:01 UTC</td>\n",
       "      <td>view</td>\n",
       "      <td>1004775</td>\n",
       "      <td>2053013555631882655</td>\n",
       "      <td>electronics.smartphone</td>\n",
       "      <td>xiaomi</td>\n",
       "      <td>183.27</td>\n",
       "      <td>558856683</td>\n",
       "      <td>313628f1-68b8-460d-84f6-cec7a8796ef2</td>\n",
       "      <td>High (500-1000)</td>\n",
       "      <td>High (500-1000)</td>\n",
       "      <td>High (500-1000)</td>\n",
       "      <td>1709770</td>\n",
       "    </tr>\n",
       "    <tr>\n",
       "      <th>4</th>\n",
       "      <td>2019-11-01 00:00:01 UTC</td>\n",
       "      <td>view</td>\n",
       "      <td>1306894</td>\n",
       "      <td>2053013558920217191</td>\n",
       "      <td>computers.notebook</td>\n",
       "      <td>hp</td>\n",
       "      <td>360.09</td>\n",
       "      <td>520772685</td>\n",
       "      <td>816a59f3-f5ae-4ccd-9b23-82aa8c23d33c</td>\n",
       "      <td>Very High (1000+)</td>\n",
       "      <td>Very High (1000+)</td>\n",
       "      <td>Very High (1000+)</td>\n",
       "      <td>41391157</td>\n",
       "    </tr>\n",
       "    <tr>\n",
       "      <th>...</th>\n",
       "      <td>...</td>\n",
       "      <td>...</td>\n",
       "      <td>...</td>\n",
       "      <td>...</td>\n",
       "      <td>...</td>\n",
       "      <td>...</td>\n",
       "      <td>...</td>\n",
       "      <td>...</td>\n",
       "      <td>...</td>\n",
       "      <td>...</td>\n",
       "      <td>...</td>\n",
       "      <td>...</td>\n",
       "      <td>...</td>\n",
       "    </tr>\n",
       "    <tr>\n",
       "      <th>44867664</th>\n",
       "      <td>2019-12-02 23:59:57 UTC</td>\n",
       "      <td>view</td>\n",
       "      <td>1002545</td>\n",
       "      <td>2232732093077520756</td>\n",
       "      <td>construction.tools.light</td>\n",
       "      <td>apple</td>\n",
       "      <td>591.75</td>\n",
       "      <td>512659486</td>\n",
       "      <td>903a5112-46f2-4cc8-b8e1-41835ca6000d</td>\n",
       "      <td>Very High (1000+)</td>\n",
       "      <td>Very High (1000+)</td>\n",
       "      <td>Very High (1000+)</td>\n",
       "      <td>41391157</td>\n",
       "    </tr>\n",
       "    <tr>\n",
       "      <th>44867665</th>\n",
       "      <td>2019-12-02 23:59:57 UTC</td>\n",
       "      <td>view</td>\n",
       "      <td>1004870</td>\n",
       "      <td>2232732093077520756</td>\n",
       "      <td>construction.tools.light</td>\n",
       "      <td>samsung</td>\n",
       "      <td>275.54</td>\n",
       "      <td>518171531</td>\n",
       "      <td>7bf5aacd-54a7-42c4-8d88-82a160cf12d7</td>\n",
       "      <td>Very High (1000+)</td>\n",
       "      <td>Very High (1000+)</td>\n",
       "      <td>Very High (1000+)</td>\n",
       "      <td>41391157</td>\n",
       "    </tr>\n",
       "    <tr>\n",
       "      <th>44867666</th>\n",
       "      <td>2019-12-02 23:59:57 UTC</td>\n",
       "      <td>view</td>\n",
       "      <td>39100015</td>\n",
       "      <td>2053013562116277013</td>\n",
       "      <td>construction.tools.light</td>\n",
       "      <td>luxvisage</td>\n",
       "      <td>5.92</td>\n",
       "      <td>581137827</td>\n",
       "      <td>285fc46c-9ca9-4060-8486-5a19bb258705</td>\n",
       "      <td>Low (0-200)</td>\n",
       "      <td>Low (0-200)</td>\n",
       "      <td>Low (0-200)</td>\n",
       "      <td>647379</td>\n",
       "    </tr>\n",
       "    <tr>\n",
       "      <th>44867667</th>\n",
       "      <td>2019-12-02 23:59:57 UTC</td>\n",
       "      <td>view</td>\n",
       "      <td>1004233</td>\n",
       "      <td>2232732093077520756</td>\n",
       "      <td>construction.tools.light</td>\n",
       "      <td>apple</td>\n",
       "      <td>1161.68</td>\n",
       "      <td>581140975</td>\n",
       "      <td>7e0377ee-1c8a-4010-95d8-61292a55b714</td>\n",
       "      <td>Very High (1000+)</td>\n",
       "      <td>Very High (1000+)</td>\n",
       "      <td>Very High (1000+)</td>\n",
       "      <td>41391157</td>\n",
       "    </tr>\n",
       "    <tr>\n",
       "      <th>44867668</th>\n",
       "      <td>2019-12-02 23:59:58 UTC</td>\n",
       "      <td>view</td>\n",
       "      <td>2900925</td>\n",
       "      <td>2232732102103663163</td>\n",
       "      <td>furniture.bedroom.blanket</td>\n",
       "      <td>dauscher</td>\n",
       "      <td>46.31</td>\n",
       "      <td>560556869</td>\n",
       "      <td>efeec552-869f-440a-af97-6d3407b5860e</td>\n",
       "      <td>Low (0-200)</td>\n",
       "      <td>Low (0-200)</td>\n",
       "      <td>Low (0-200)</td>\n",
       "      <td>647379</td>\n",
       "    </tr>\n",
       "  </tbody>\n",
       "</table>\n",
       "<p>44867669 rows × 13 columns</p>\n",
       "</div>"
      ],
      "text/plain": [
       "                       event_time event_type  product_id          category_id  \\\n",
       "0         2019-11-01 00:00:00 UTC       view     1003461  2053013555631882655   \n",
       "1         2019-11-01 00:00:00 UTC       view     5000088  2053013566100866035   \n",
       "2         2019-11-01 00:00:01 UTC       view     3601530  2053013563810775923   \n",
       "3         2019-11-01 00:00:01 UTC       view     1004775  2053013555631882655   \n",
       "4         2019-11-01 00:00:01 UTC       view     1306894  2053013558920217191   \n",
       "...                           ...        ...         ...                  ...   \n",
       "44867664  2019-12-02 23:59:57 UTC       view     1002545  2232732093077520756   \n",
       "44867665  2019-12-02 23:59:57 UTC       view     1004870  2232732093077520756   \n",
       "44867666  2019-12-02 23:59:57 UTC       view    39100015  2053013562116277013   \n",
       "44867667  2019-12-02 23:59:57 UTC       view     1004233  2232732093077520756   \n",
       "44867668  2019-12-02 23:59:58 UTC       view     2900925  2232732102103663163   \n",
       "\n",
       "                      category_code      brand    price    user_id  \\\n",
       "0            electronics.smartphone     xiaomi   489.07  520088904   \n",
       "1         appliances.sewing_machine     janome   293.65  530496790   \n",
       "2         appliances.kitchen.washer         lg   712.87  518085591   \n",
       "3            electronics.smartphone     xiaomi   183.27  558856683   \n",
       "4                computers.notebook         hp   360.09  520772685   \n",
       "...                             ...        ...      ...        ...   \n",
       "44867664   construction.tools.light      apple   591.75  512659486   \n",
       "44867665   construction.tools.light    samsung   275.54  518171531   \n",
       "44867666   construction.tools.light  luxvisage     5.92  581137827   \n",
       "44867667   construction.tools.light      apple  1161.68  581140975   \n",
       "44867668  furniture.bedroom.blanket   dauscher    46.31  560556869   \n",
       "\n",
       "                                  user_session spending_category_x  \\\n",
       "0         4d3b30da-a5e4-49df-b1a8-ba5943f1dd33   Very High (1000+)   \n",
       "1         8e5f4f83-366c-4f70-860e-ca7417414283   Very High (1000+)   \n",
       "2         3bfb58cd-7892-48cc-8020-2f17e6de6e7f   Very High (1000+)   \n",
       "3         313628f1-68b8-460d-84f6-cec7a8796ef2     High (500-1000)   \n",
       "4         816a59f3-f5ae-4ccd-9b23-82aa8c23d33c   Very High (1000+)   \n",
       "...                                        ...                 ...   \n",
       "44867664  903a5112-46f2-4cc8-b8e1-41835ca6000d   Very High (1000+)   \n",
       "44867665  7bf5aacd-54a7-42c4-8d88-82a160cf12d7   Very High (1000+)   \n",
       "44867666  285fc46c-9ca9-4060-8486-5a19bb258705         Low (0-200)   \n",
       "44867667  7e0377ee-1c8a-4010-95d8-61292a55b714   Very High (1000+)   \n",
       "44867668  efeec552-869f-440a-af97-6d3407b5860e         Low (0-200)   \n",
       "\n",
       "         spending_category_y  spending_category customer_count  \n",
       "0          Very High (1000+)  Very High (1000+)       41391157  \n",
       "1          Very High (1000+)  Very High (1000+)       41391157  \n",
       "2          Very High (1000+)  Very High (1000+)       41391157  \n",
       "3            High (500-1000)    High (500-1000)        1709770  \n",
       "4          Very High (1000+)  Very High (1000+)       41391157  \n",
       "...                      ...                ...            ...  \n",
       "44867664   Very High (1000+)  Very High (1000+)       41391157  \n",
       "44867665   Very High (1000+)  Very High (1000+)       41391157  \n",
       "44867666         Low (0-200)        Low (0-200)         647379  \n",
       "44867667   Very High (1000+)  Very High (1000+)       41391157  \n",
       "44867668         Low (0-200)        Low (0-200)         647379  \n",
       "\n",
       "[44867669 rows x 13 columns]"
      ]
     },
     "execution_count": 58,
     "metadata": {},
     "output_type": "execute_result"
    }
   ],
   "source": [
    "df"
   ]
  },
  {
   "cell_type": "code",
   "execution_count": 64,
   "id": "df8bf988-72ca-4f12-8542-66399c082c1d",
   "metadata": {
    "tags": []
   },
   "outputs": [
    {
     "data": {
      "image/png": "[encoded data removed]",
      "text/plain": [
       "<Figure size 800x500 with 1 Axes>"
      ]
     },
     "metadata": {},
     "output_type": "display_data"
    }
   ],
   "source": [
    "plt.figure(figsize=(8, 5))\n",
    "category_counts.plot(kind='bar', color='skyblue')\n",
    "plt.title('Customer Segmentation by Spending Volume')\n",
    "plt.xlabel('Spending Category')\n",
    "plt.ylabel('Number of Customers')\n",
    "plt.xticks(rotation=45)\n",
    "plt.show()"
   ]
  },
  {
   "cell_type": "code",
   "execution_count": 72,
   "id": "a604f64a-6b18-451e-ba8b-baba03707dbc",
   "metadata": {
    "tags": []
   },
   "outputs": [
    {
     "data": {
      "image/png": "[encoded data removed]",
      "text/plain": [
       "<Figure size 800x500 with 1 Axes>"
      ]
     },
     "metadata": {},
     "output_type": "display_data"
    }
   ],
   "source": [
    "plt.figure(figsize=(8, 5))\n",
    "plt.hist(user_spending['price'], bins=50, color='lightgreen', edgecolor='black')  # More bins\n",
    "plt.title('Distribution of Total Spending per User')\n",
    "plt.xlabel('Total Spending')\n",
    "plt.ylabel('Number of Users')\n",
    "plt.grid(True)\n",
    "plt.show()\n"
   ]
  },
  {
   "cell_type": "code",
   "execution_count": null,
   "id": "4cda1995-142d-467e-9464-f3bf21ea5fee",
   "metadata": {},
   "outputs": [],
   "source": []
  },
  {
   "cell_type": "code",
   "execution_count": null,
   "id": "710277bc-028b-437b-9caf-eb2acb7afe63",
   "metadata": {},
   "outputs": [],
   "source": []
  }
 ],
 "metadata": {
  "kernelspec": {
   "display_name": "Python 3 (ipykernel)",
   "language": "python",
   "name": "python3"
  },
  "language_info": {
   "codemirror_mode": {
    "name": "ipython",
    "version": 3
   },
   "file_extension": ".py",
   "mimetype": "text/x-python",
   "name": "python",
   "nbconvert_exporter": "python",
   "pygments_lexer": "ipython3",
   "version": "3.11.5"
  }
 },
 "nbformat": 4,
 "nbformat_minor": 5
}
